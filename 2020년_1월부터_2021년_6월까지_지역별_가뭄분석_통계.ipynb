{
  "nbformat": 4,
  "nbformat_minor": 0,
  "metadata": {
    "colab": {
      "name": "2020년 1월부터 2021년 6월까지 지역별 가뭄분석 통계.ipynb",
      "provenance": [],
      "collapsed_sections": []
    },
    "kernelspec": {
      "name": "python3",
      "display_name": "Python 3"
    },
    "language_info": {
      "name": "python"
    }
  },
  "cells": [
    {
      "cell_type": "markdown",
      "metadata": {
        "id": "7RxVh9BOUi9T"
      },
      "source": [
        "# 2020년 1월부터 2021년 6월까지 지역별 가뭄분석 통계"
      ]
    },
    {
      "cell_type": "code",
      "metadata": {
        "colab": {
          "base_uri": "https://localhost:8080/"
        },
        "id": "8banq7eUImA9",
        "outputId": "1bc45737-cd6b-4ef2-c37e-232b55634717"
      },
      "source": [
        "# 그래프 한글 패치\n",
        "!sudo apt-get install -y fonts-nanum\n",
        "!sudo fc-cache -fv\n",
        "!rm ~/.cache/matplotlib -rf"
      ],
      "execution_count": 1,
      "outputs": [
        {
          "output_type": "stream",
          "text": [
            "Reading package lists... Done\n",
            "Building dependency tree       \n",
            "Reading state information... Done\n",
            "The following package was automatically installed and is no longer required:\n",
            "  libnvidia-common-460\n",
            "Use 'sudo apt autoremove' to remove it.\n",
            "The following NEW packages will be installed:\n",
            "  fonts-nanum\n",
            "0 upgraded, 1 newly installed, 0 to remove and 40 not upgraded.\n",
            "Need to get 9,604 kB of archives.\n",
            "After this operation, 29.5 MB of additional disk space will be used.\n",
            "Get:1 http://archive.ubuntu.com/ubuntu bionic/universe amd64 fonts-nanum all 20170925-1 [9,604 kB]\n",
            "Fetched 9,604 kB in 3s (3,153 kB/s)\n",
            "debconf: unable to initialize frontend: Dialog\n",
            "debconf: (No usable dialog-like program is installed, so the dialog based frontend cannot be used. at /usr/share/perl5/Debconf/FrontEnd/Dialog.pm line 76, <> line 1.)\n",
            "debconf: falling back to frontend: Readline\n",
            "debconf: unable to initialize frontend: Readline\n",
            "debconf: (This frontend requires a controlling tty.)\n",
            "debconf: falling back to frontend: Teletype\n",
            "dpkg-preconfigure: unable to re-open stdin: \n",
            "Selecting previously unselected package fonts-nanum.\n",
            "(Reading database ... 148486 files and directories currently installed.)\n",
            "Preparing to unpack .../fonts-nanum_20170925-1_all.deb ...\n",
            "Unpacking fonts-nanum (20170925-1) ...\n",
            "Setting up fonts-nanum (20170925-1) ...\n",
            "Processing triggers for fontconfig (2.12.6-0ubuntu2) ...\n",
            "/usr/share/fonts: caching, new cache contents: 0 fonts, 1 dirs\n",
            "/usr/share/fonts/truetype: caching, new cache contents: 0 fonts, 3 dirs\n",
            "/usr/share/fonts/truetype/humor-sans: caching, new cache contents: 1 fonts, 0 dirs\n",
            "/usr/share/fonts/truetype/liberation: caching, new cache contents: 16 fonts, 0 dirs\n",
            "/usr/share/fonts/truetype/nanum: caching, new cache contents: 10 fonts, 0 dirs\n",
            "/usr/local/share/fonts: caching, new cache contents: 0 fonts, 0 dirs\n",
            "/root/.local/share/fonts: skipping, no such directory\n",
            "/root/.fonts: skipping, no such directory\n",
            "/var/cache/fontconfig: cleaning cache directory\n",
            "/root/.cache/fontconfig: not cleaning non-existent cache directory\n",
            "/root/.fontconfig: not cleaning non-existent cache directory\n",
            "fc-cache: succeeded\n"
          ],
          "name": "stdout"
        }
      ]
    },
    {
      "cell_type": "markdown",
      "metadata": {
        "id": "I2BfMFllUq2U"
      },
      "source": [
        "## 라이브러리 임포트 및 데이터 로드"
      ]
    },
    {
      "cell_type": "code",
      "metadata": {
        "id": "7PXWghH2JKHv"
      },
      "source": [
        "import pandas as pd\n",
        "import numpy as np\n",
        "import matplotlib.pyplot as plt\n",
        "plt.rc('font', family='NanumBarunGothic') \n",
        "import seaborn as sns"
      ],
      "execution_count": 1,
      "outputs": []
    },
    {
      "cell_type": "code",
      "metadata": {
        "id": "l1IjpOmKJLvY"
      },
      "source": [
        "df_202001 = pd.read_csv(\"지하수_관측소별_가뭄분석_정보_2020년_01월.csv\", thousands=',')\n",
        "df_202002 = pd.read_csv(\"지하수_관측소별_가뭄분석_정보_2020년_02월.csv\", thousands=',')\n",
        "df_202003 = pd.read_csv(\"지하수_관측소별_가뭄분석_정보_2020년_03월.csv\", thousands=',')\n",
        "df_202004 = pd.read_csv(\"지하수_관측소별_가뭄분석_정보_2020년_04월.csv\", thousands=',')\n",
        "df_202005 = pd.read_csv(\"지하수_관측소별_가뭄분석_정보_2020년_05월.csv\", thousands=',')\n",
        "df_202006 = pd.read_csv(\"지하수_관측소별_가뭄분석_정보_2020년_06월.csv\", thousands=',')\n",
        "df_202007 = pd.read_csv(\"지하수_관측소별_가뭄분석_정보_2020년_07월.csv\", thousands=',')\n",
        "df_202008 = pd.read_csv(\"지하수_관측소별_가뭄분석_정보_2020년_08월.csv\", thousands=',')\n",
        "df_202009 = pd.read_csv(\"지하수_관측소별_가뭄분석_정보_2020년_09월.csv\", thousands=',')\n",
        "df_202010 = pd.read_csv(\"지하수_관측소별_가뭄분석_정보_2020년_10월.csv\", thousands=',')\n",
        "df_202011 = pd.read_csv(\"지하수_관측소별_가뭄분석_정보_2020년_11월.csv\", thousands=',')\n",
        "df_202012 = pd.read_csv(\"지하수_관측소별_가뭄분석_정보_2020년_12월.csv\", thousands=',')\n",
        "df_202101 = pd.read_csv(\"지하수_관측소별_가뭄분석_정보_2021년_01월.csv\", thousands=',')\n",
        "df_202102 = pd.read_csv(\"지하수_관측소별_가뭄분석_정보_2021년_02월.csv\", thousands=',')\n",
        "df_202103 = pd.read_csv(\"지하수_관측소별_가뭄분석_정보_2021년_03월.csv\", thousands=',')\n",
        "df_202104 = pd.read_csv(\"지하수_관측소별_가뭄분석_정보_2021년_04월.csv\", thousands=',')\n",
        "df_202105 = pd.read_csv(\"지하수_관측소별_가뭄분석_정보_2021년_05월.csv\", thousands=',')\n",
        "df_202106 = pd.read_csv(\"지하수_관측소별_가뭄분석_정보_2021년_06월.csv\", thousands=',')"
      ],
      "execution_count": 97,
      "outputs": []
    },
    {
      "cell_type": "code",
      "metadata": {
        "colab": {
          "base_uri": "https://localhost:8080/",
          "height": 417
        },
        "id": "2yAayHL9JWBC",
        "outputId": "92373be6-bc87-4258-b191-9202482115cf"
      },
      "source": [
        "df = pd.concat([df_202001, df_202002, df_202003, df_202004, df_202005, df_202006, df_202007, df_202008, df_202009, df_202010, df_202011, df_202012, \n",
        "                df_202101, df_202102, df_202103, df_202104, df_202105, df_202106])\n",
        "df = df.reset_index()\n",
        "df"
      ],
      "execution_count": 98,
      "outputs": [
        {
          "output_type": "execute_result",
          "data": {
            "text/html": [
              "<div>\n",
              "<style scoped>\n",
              "    .dataframe tbody tr th:only-of-type {\n",
              "        vertical-align: middle;\n",
              "    }\n",
              "\n",
              "    .dataframe tbody tr th {\n",
              "        vertical-align: top;\n",
              "    }\n",
              "\n",
              "    .dataframe thead th {\n",
              "        text-align: right;\n",
              "    }\n",
              "</style>\n",
              "<table border=\"1\" class=\"dataframe\">\n",
              "  <thead>\n",
              "    <tr style=\"text-align: right;\">\n",
              "      <th></th>\n",
              "      <th>index</th>\n",
              "      <th>obsv_name_nm</th>\n",
              "      <th>sdnm_nm</th>\n",
              "      <th>sgnm_nm</th>\n",
              "      <th>sggnm_nm</th>\n",
              "      <th>umdnm_nm</th>\n",
              "      <th>ri_nm</th>\n",
              "      <th>decdt_dt</th>\n",
              "      <th>lev_hg</th>\n",
              "      <th>decrst_cn</th>\n",
              "    </tr>\n",
              "  </thead>\n",
              "  <tbody>\n",
              "    <tr>\n",
              "      <th>0</th>\n",
              "      <td>0</td>\n",
              "      <td>창원합성</td>\n",
              "      <td>경상남도</td>\n",
              "      <td>창원시</td>\n",
              "      <td>창원시마산회원구</td>\n",
              "      <td>합성동</td>\n",
              "      <td>0</td>\n",
              "      <td>2020-01-06</td>\n",
              "      <td>17.868</td>\n",
              "      <td>정상</td>\n",
              "    </tr>\n",
              "    <tr>\n",
              "      <th>1</th>\n",
              "      <td>1</td>\n",
              "      <td>창원합성</td>\n",
              "      <td>경상남도</td>\n",
              "      <td>창원시</td>\n",
              "      <td>창원시마산회원구</td>\n",
              "      <td>합성동</td>\n",
              "      <td>0</td>\n",
              "      <td>2020-01-02</td>\n",
              "      <td>17.981</td>\n",
              "      <td>정상</td>\n",
              "    </tr>\n",
              "    <tr>\n",
              "      <th>2</th>\n",
              "      <td>2</td>\n",
              "      <td>창원합성</td>\n",
              "      <td>경상남도</td>\n",
              "      <td>창원시</td>\n",
              "      <td>창원시마산회원구</td>\n",
              "      <td>합성동</td>\n",
              "      <td>0</td>\n",
              "      <td>2020-01-05</td>\n",
              "      <td>17.868</td>\n",
              "      <td>정상</td>\n",
              "    </tr>\n",
              "    <tr>\n",
              "      <th>3</th>\n",
              "      <td>3</td>\n",
              "      <td>창원합성</td>\n",
              "      <td>경상남도</td>\n",
              "      <td>창원시</td>\n",
              "      <td>창원시마산회원구</td>\n",
              "      <td>합성동</td>\n",
              "      <td>0</td>\n",
              "      <td>2020-01-04</td>\n",
              "      <td>17.981</td>\n",
              "      <td>정상</td>\n",
              "    </tr>\n",
              "    <tr>\n",
              "      <th>4</th>\n",
              "      <td>4</td>\n",
              "      <td>창원합성</td>\n",
              "      <td>경상남도</td>\n",
              "      <td>창원시</td>\n",
              "      <td>창원시마산회원구</td>\n",
              "      <td>합성동</td>\n",
              "      <td>0</td>\n",
              "      <td>2020-01-01</td>\n",
              "      <td>17.981</td>\n",
              "      <td>정상</td>\n",
              "    </tr>\n",
              "    <tr>\n",
              "      <th>...</th>\n",
              "      <td>...</td>\n",
              "      <td>...</td>\n",
              "      <td>...</td>\n",
              "      <td>...</td>\n",
              "      <td>...</td>\n",
              "      <td>...</td>\n",
              "      <td>...</td>\n",
              "      <td>...</td>\n",
              "      <td>...</td>\n",
              "      <td>...</td>\n",
              "    </tr>\n",
              "    <tr>\n",
              "      <th>220917</th>\n",
              "      <td>12228</td>\n",
              "      <td>영천금노</td>\n",
              "      <td>경상북도</td>\n",
              "      <td>영천시</td>\n",
              "      <td>영천시</td>\n",
              "      <td>금노동</td>\n",
              "      <td>0</td>\n",
              "      <td>2021-06-05</td>\n",
              "      <td>71.339</td>\n",
              "      <td>정상</td>\n",
              "    </tr>\n",
              "    <tr>\n",
              "      <th>220918</th>\n",
              "      <td>12229</td>\n",
              "      <td>영천금노</td>\n",
              "      <td>경상북도</td>\n",
              "      <td>영천시</td>\n",
              "      <td>영천시</td>\n",
              "      <td>금노동</td>\n",
              "      <td>0</td>\n",
              "      <td>2021-06-04</td>\n",
              "      <td>71.235</td>\n",
              "      <td>정상</td>\n",
              "    </tr>\n",
              "    <tr>\n",
              "      <th>220919</th>\n",
              "      <td>12230</td>\n",
              "      <td>영천금노</td>\n",
              "      <td>경상북도</td>\n",
              "      <td>영천시</td>\n",
              "      <td>영천시</td>\n",
              "      <td>금노동</td>\n",
              "      <td>0</td>\n",
              "      <td>2021-06-03</td>\n",
              "      <td>71.235</td>\n",
              "      <td>정상</td>\n",
              "    </tr>\n",
              "    <tr>\n",
              "      <th>220920</th>\n",
              "      <td>12231</td>\n",
              "      <td>영천금노</td>\n",
              "      <td>경상북도</td>\n",
              "      <td>영천시</td>\n",
              "      <td>영천시</td>\n",
              "      <td>금노동</td>\n",
              "      <td>0</td>\n",
              "      <td>2021-06-02</td>\n",
              "      <td>71.235</td>\n",
              "      <td>정상</td>\n",
              "    </tr>\n",
              "    <tr>\n",
              "      <th>220921</th>\n",
              "      <td>12232</td>\n",
              "      <td>영천금노</td>\n",
              "      <td>경상북도</td>\n",
              "      <td>영천시</td>\n",
              "      <td>영천시</td>\n",
              "      <td>금노동</td>\n",
              "      <td>0</td>\n",
              "      <td>2021-06-01</td>\n",
              "      <td>71.235</td>\n",
              "      <td>정상</td>\n",
              "    </tr>\n",
              "  </tbody>\n",
              "</table>\n",
              "<p>220922 rows × 10 columns</p>\n",
              "</div>"
            ],
            "text/plain": [
              "        index obsv_name_nm sdnm_nm sgnm_nm  ... ri_nm    decdt_dt  lev_hg decrst_cn\n",
              "0           0         창원합성    경상남도     창원시  ...     0  2020-01-06  17.868        정상\n",
              "1           1         창원합성    경상남도     창원시  ...     0  2020-01-02  17.981        정상\n",
              "2           2         창원합성    경상남도     창원시  ...     0  2020-01-05  17.868        정상\n",
              "3           3         창원합성    경상남도     창원시  ...     0  2020-01-04  17.981        정상\n",
              "4           4         창원합성    경상남도     창원시  ...     0  2020-01-01  17.981        정상\n",
              "...       ...          ...     ...     ...  ...   ...         ...     ...       ...\n",
              "220917  12228         영천금노    경상북도     영천시  ...     0  2021-06-05  71.339        정상\n",
              "220918  12229         영천금노    경상북도     영천시  ...     0  2021-06-04  71.235        정상\n",
              "220919  12230         영천금노    경상북도     영천시  ...     0  2021-06-03  71.235        정상\n",
              "220920  12231         영천금노    경상북도     영천시  ...     0  2021-06-02  71.235        정상\n",
              "220921  12232         영천금노    경상북도     영천시  ...     0  2021-06-01  71.235        정상\n",
              "\n",
              "[220922 rows x 10 columns]"
            ]
          },
          "metadata": {},
          "execution_count": 98
        }
      ]
    },
    {
      "cell_type": "code",
      "metadata": {
        "colab": {
          "base_uri": "https://localhost:8080/"
        },
        "id": "Sx_HwwaYJovN",
        "outputId": "2ca33884-bb9f-4d5e-8b72-0e2425f18d8a"
      },
      "source": [
        "df.info()"
      ],
      "execution_count": 99,
      "outputs": [
        {
          "output_type": "stream",
          "text": [
            "<class 'pandas.core.frame.DataFrame'>\n",
            "RangeIndex: 220922 entries, 0 to 220921\n",
            "Data columns (total 10 columns):\n",
            " #   Column        Non-Null Count   Dtype  \n",
            "---  ------        --------------   -----  \n",
            " 0   index         220922 non-null  int64  \n",
            " 1   obsv_name_nm  220922 non-null  object \n",
            " 2   sdnm_nm       220922 non-null  object \n",
            " 3   sgnm_nm       220922 non-null  object \n",
            " 4   sggnm_nm      220922 non-null  object \n",
            " 5   umdnm_nm      220922 non-null  object \n",
            " 6   ri_nm         220922 non-null  object \n",
            " 7   decdt_dt      220922 non-null  object \n",
            " 8   lev_hg        220922 non-null  float64\n",
            " 9   decrst_cn     220922 non-null  object \n",
            "dtypes: float64(1), int64(1), object(8)\n",
            "memory usage: 16.9+ MB\n"
          ],
          "name": "stdout"
        }
      ]
    },
    {
      "cell_type": "code",
      "metadata": {
        "colab": {
          "base_uri": "https://localhost:8080/"
        },
        "id": "bC2AecMTJvF3",
        "outputId": "acba4155-9a5d-48f8-9625-0491881bc8e8"
      },
      "source": [
        "df.isnull().sum()"
      ],
      "execution_count": 100,
      "outputs": [
        {
          "output_type": "execute_result",
          "data": {
            "text/plain": [
              "index           0\n",
              "obsv_name_nm    0\n",
              "sdnm_nm         0\n",
              "sgnm_nm         0\n",
              "sggnm_nm        0\n",
              "umdnm_nm        0\n",
              "ri_nm           0\n",
              "decdt_dt        0\n",
              "lev_hg          0\n",
              "decrst_cn       0\n",
              "dtype: int64"
            ]
          },
          "metadata": {},
          "execution_count": 100
        }
      ]
    },
    {
      "cell_type": "code",
      "metadata": {
        "colab": {
          "base_uri": "https://localhost:8080/",
          "height": 386
        },
        "id": "cTct1sS3JxKU",
        "outputId": "e5240666-d36b-4d49-9657-34dad31e9e1d"
      },
      "source": [
        "sns.displot(df[\"lev_hg\"])"
      ],
      "execution_count": 101,
      "outputs": [
        {
          "output_type": "execute_result",
          "data": {
            "text/plain": [
              "<seaborn.axisgrid.FacetGrid at 0x7faec4378dd0>"
            ]
          },
          "metadata": {},
          "execution_count": 101
        },
        {
          "output_type": "display_data",
          "data": {
            "image/png": "[encoded data removed]",
            "text/plain": [
              "<Figure size 360x360 with 1 Axes>"
            ]
          },
          "metadata": {
            "needs_background": "light"
          }
        }
      ]
    },
    {
      "cell_type": "code",
      "metadata": {
        "colab": {
          "base_uri": "https://localhost:8080/",
          "height": 417
        },
        "id": "c5mF2BytKN2p",
        "outputId": "68be8ab9-89a5-4927-fd75-c3f700af48c2"
      },
      "source": [
        "df[[\"obsv_name_nm\", \"lev_hg\"]].sort_values(by=\"lev_hg\", ascending=False)"
      ],
      "execution_count": 102,
      "outputs": [
        {
          "output_type": "execute_result",
          "data": {
            "text/html": [
              "<div>\n",
              "<style scoped>\n",
              "    .dataframe tbody tr th:only-of-type {\n",
              "        vertical-align: middle;\n",
              "    }\n",
              "\n",
              "    .dataframe tbody tr th {\n",
              "        vertical-align: top;\n",
              "    }\n",
              "\n",
              "    .dataframe thead th {\n",
              "        text-align: right;\n",
              "    }\n",
              "</style>\n",
              "<table border=\"1\" class=\"dataframe\">\n",
              "  <thead>\n",
              "    <tr style=\"text-align: right;\">\n",
              "      <th></th>\n",
              "      <th>obsv_name_nm</th>\n",
              "      <th>lev_hg</th>\n",
              "    </tr>\n",
              "  </thead>\n",
              "  <tbody>\n",
              "    <tr>\n",
              "      <th>85272</th>\n",
              "      <td>강릉왕산</td>\n",
              "      <td>971.204</td>\n",
              "    </tr>\n",
              "    <tr>\n",
              "      <th>182300</th>\n",
              "      <td>강릉왕산</td>\n",
              "      <td>971.204</td>\n",
              "    </tr>\n",
              "    <tr>\n",
              "      <th>207089</th>\n",
              "      <td>강릉왕산</td>\n",
              "      <td>971.204</td>\n",
              "    </tr>\n",
              "    <tr>\n",
              "      <th>207088</th>\n",
              "      <td>강릉왕산</td>\n",
              "      <td>971.204</td>\n",
              "    </tr>\n",
              "    <tr>\n",
              "      <th>85270</th>\n",
              "      <td>강릉왕산</td>\n",
              "      <td>971.204</td>\n",
              "    </tr>\n",
              "    <tr>\n",
              "      <th>...</th>\n",
              "      <td>...</td>\n",
              "      <td>...</td>\n",
              "    </tr>\n",
              "    <tr>\n",
              "      <th>4663</th>\n",
              "      <td>서천종천</td>\n",
              "      <td>-22.836</td>\n",
              "    </tr>\n",
              "    <tr>\n",
              "      <th>152800</th>\n",
              "      <td>서천종천</td>\n",
              "      <td>-22.836</td>\n",
              "    </tr>\n",
              "    <tr>\n",
              "      <th>152799</th>\n",
              "      <td>서천종천</td>\n",
              "      <td>-22.836</td>\n",
              "    </tr>\n",
              "    <tr>\n",
              "      <th>152798</th>\n",
              "      <td>서천종천</td>\n",
              "      <td>-22.836</td>\n",
              "    </tr>\n",
              "    <tr>\n",
              "      <th>17023</th>\n",
              "      <td>서천종천</td>\n",
              "      <td>-22.836</td>\n",
              "    </tr>\n",
              "  </tbody>\n",
              "</table>\n",
              "<p>220922 rows × 2 columns</p>\n",
              "</div>"
            ],
            "text/plain": [
              "       obsv_name_nm   lev_hg\n",
              "85272          강릉왕산  971.204\n",
              "182300         강릉왕산  971.204\n",
              "207089         강릉왕산  971.204\n",
              "207088         강릉왕산  971.204\n",
              "85270          강릉왕산  971.204\n",
              "...             ...      ...\n",
              "4663           서천종천  -22.836\n",
              "152800         서천종천  -22.836\n",
              "152799         서천종천  -22.836\n",
              "152798         서천종천  -22.836\n",
              "17023          서천종천  -22.836\n",
              "\n",
              "[220922 rows x 2 columns]"
            ]
          },
          "metadata": {},
          "execution_count": 102
        }
      ]
    },
    {
      "cell_type": "code",
      "metadata": {
        "colab": {
          "base_uri": "https://localhost:8080/",
          "height": 142
        },
        "id": "0AzICE7ZKXhk",
        "outputId": "a444375e-5041-4f0e-f2d7-1f31e4b644b7"
      },
      "source": [
        "df.loc[[0,1,2], [\"obsv_name_nm\",\"lev_hg\"]]"
      ],
      "execution_count": 103,
      "outputs": [
        {
          "output_type": "execute_result",
          "data": {
            "text/html": [
              "<div>\n",
              "<style scoped>\n",
              "    .dataframe tbody tr th:only-of-type {\n",
              "        vertical-align: middle;\n",
              "    }\n",
              "\n",
              "    .dataframe tbody tr th {\n",
              "        vertical-align: top;\n",
              "    }\n",
              "\n",
              "    .dataframe thead th {\n",
              "        text-align: right;\n",
              "    }\n",
              "</style>\n",
              "<table border=\"1\" class=\"dataframe\">\n",
              "  <thead>\n",
              "    <tr style=\"text-align: right;\">\n",
              "      <th></th>\n",
              "      <th>obsv_name_nm</th>\n",
              "      <th>lev_hg</th>\n",
              "    </tr>\n",
              "  </thead>\n",
              "  <tbody>\n",
              "    <tr>\n",
              "      <th>0</th>\n",
              "      <td>창원합성</td>\n",
              "      <td>17.868</td>\n",
              "    </tr>\n",
              "    <tr>\n",
              "      <th>1</th>\n",
              "      <td>창원합성</td>\n",
              "      <td>17.981</td>\n",
              "    </tr>\n",
              "    <tr>\n",
              "      <th>2</th>\n",
              "      <td>창원합성</td>\n",
              "      <td>17.868</td>\n",
              "    </tr>\n",
              "  </tbody>\n",
              "</table>\n",
              "</div>"
            ],
            "text/plain": [
              "  obsv_name_nm  lev_hg\n",
              "0         창원합성  17.868\n",
              "1         창원합성  17.981\n",
              "2         창원합성  17.868"
            ]
          },
          "metadata": {},
          "execution_count": 103
        }
      ]
    },
    {
      "cell_type": "markdown",
      "metadata": {
        "id": "SvNOnptqUw44"
      },
      "source": [
        "## 지하수위"
      ]
    },
    {
      "cell_type": "markdown",
      "metadata": {
        "id": "RXRmwl_uU0rj"
      },
      "source": [
        "### 시도별 지하수 수위 분석"
      ]
    },
    {
      "cell_type": "code",
      "metadata": {
        "colab": {
          "base_uri": "https://localhost:8080/"
        },
        "id": "npJHsGTLKb4B",
        "outputId": "6c009625-df48-445b-dbe2-836c7f0184d8"
      },
      "source": [
        "df_sdnm = df.groupby(\"sdnm_nm\")[\"lev_hg\"].mean()\n",
        "df_sdnm"
      ],
      "execution_count": 104,
      "outputs": [
        {
          "output_type": "execute_result",
          "data": {
            "text/plain": [
              "sdnm_nm\n",
              "강원도        257.980002\n",
              "경기도         48.164294\n",
              "경상남도        88.429309\n",
              "경상북도       115.604348\n",
              "광주광역시       37.036796\n",
              "대구광역시       54.995498\n",
              "대전광역시       33.213302\n",
              "부산광역시       50.888791\n",
              "서울특별시       11.141698\n",
              "세종특별자치시     19.943957\n",
              "울산광역시       68.482308\n",
              "인천광역시        6.142279\n",
              "전라남도        50.462616\n",
              "전라북도        98.944782\n",
              "제주특별자치도     76.412076\n",
              "충청남도        34.809562\n",
              "충청북도       130.223487\n",
              "Name: lev_hg, dtype: float64"
            ]
          },
          "metadata": {},
          "execution_count": 104
        }
      ]
    },
    {
      "cell_type": "code",
      "metadata": {
        "colab": {
          "base_uri": "https://localhost:8080/",
          "height": 297
        },
        "id": "hEhjftTYKisP",
        "outputId": "e808dfab-45fe-4b39-abef-775c878d1fff"
      },
      "source": [
        "df_sdnm.plot(figsize=(17,4), kind='bar', rot=0)"
      ],
      "execution_count": 105,
      "outputs": [
        {
          "output_type": "execute_result",
          "data": {
            "text/plain": [
              "<matplotlib.axes._subplots.AxesSubplot at 0x7faec3d82350>"
            ]
          },
          "metadata": {},
          "execution_count": 105
        },
        {
          "output_type": "display_data",
          "data": {
            "image/png": "[encoded data removed]",
            "text/plain": [
              "<Figure size 1224x288 with 1 Axes>"
            ]
          },
          "metadata": {
            "needs_background": "light"
          }
        }
      ]
    },
    {
      "cell_type": "code",
      "metadata": {
        "colab": {
          "base_uri": "https://localhost:8080/",
          "height": 573
        },
        "id": "yxPfznkYKpNN",
        "outputId": "6b9476bc-3231-491a-bc36-2e36846284ff"
      },
      "source": [
        "df_sdnm = df_sdnm.reset_index()\n",
        "df_sdnm"
      ],
      "execution_count": 106,
      "outputs": [
        {
          "output_type": "execute_result",
          "data": {
            "text/html": [
              "<div>\n",
              "<style scoped>\n",
              "    .dataframe tbody tr th:only-of-type {\n",
              "        vertical-align: middle;\n",
              "    }\n",
              "\n",
              "    .dataframe tbody tr th {\n",
              "        vertical-align: top;\n",
              "    }\n",
              "\n",
              "    .dataframe thead th {\n",
              "        text-align: right;\n",
              "    }\n",
              "</style>\n",
              "<table border=\"1\" class=\"dataframe\">\n",
              "  <thead>\n",
              "    <tr style=\"text-align: right;\">\n",
              "      <th></th>\n",
              "      <th>sdnm_nm</th>\n",
              "      <th>lev_hg</th>\n",
              "    </tr>\n",
              "  </thead>\n",
              "  <tbody>\n",
              "    <tr>\n",
              "      <th>0</th>\n",
              "      <td>강원도</td>\n",
              "      <td>257.980002</td>\n",
              "    </tr>\n",
              "    <tr>\n",
              "      <th>1</th>\n",
              "      <td>경기도</td>\n",
              "      <td>48.164294</td>\n",
              "    </tr>\n",
              "    <tr>\n",
              "      <th>2</th>\n",
              "      <td>경상남도</td>\n",
              "      <td>88.429309</td>\n",
              "    </tr>\n",
              "    <tr>\n",
              "      <th>3</th>\n",
              "      <td>경상북도</td>\n",
              "      <td>115.604348</td>\n",
              "    </tr>\n",
              "    <tr>\n",
              "      <th>4</th>\n",
              "      <td>광주광역시</td>\n",
              "      <td>37.036796</td>\n",
              "    </tr>\n",
              "    <tr>\n",
              "      <th>5</th>\n",
              "      <td>대구광역시</td>\n",
              "      <td>54.995498</td>\n",
              "    </tr>\n",
              "    <tr>\n",
              "      <th>6</th>\n",
              "      <td>대전광역시</td>\n",
              "      <td>33.213302</td>\n",
              "    </tr>\n",
              "    <tr>\n",
              "      <th>7</th>\n",
              "      <td>부산광역시</td>\n",
              "      <td>50.888791</td>\n",
              "    </tr>\n",
              "    <tr>\n",
              "      <th>8</th>\n",
              "      <td>서울특별시</td>\n",
              "      <td>11.141698</td>\n",
              "    </tr>\n",
              "    <tr>\n",
              "      <th>9</th>\n",
              "      <td>세종특별자치시</td>\n",
              "      <td>19.943957</td>\n",
              "    </tr>\n",
              "    <tr>\n",
              "      <th>10</th>\n",
              "      <td>울산광역시</td>\n",
              "      <td>68.482308</td>\n",
              "    </tr>\n",
              "    <tr>\n",
              "      <th>11</th>\n",
              "      <td>인천광역시</td>\n",
              "      <td>6.142279</td>\n",
              "    </tr>\n",
              "    <tr>\n",
              "      <th>12</th>\n",
              "      <td>전라남도</td>\n",
              "      <td>50.462616</td>\n",
              "    </tr>\n",
              "    <tr>\n",
              "      <th>13</th>\n",
              "      <td>전라북도</td>\n",
              "      <td>98.944782</td>\n",
              "    </tr>\n",
              "    <tr>\n",
              "      <th>14</th>\n",
              "      <td>제주특별자치도</td>\n",
              "      <td>76.412076</td>\n",
              "    </tr>\n",
              "    <tr>\n",
              "      <th>15</th>\n",
              "      <td>충청남도</td>\n",
              "      <td>34.809562</td>\n",
              "    </tr>\n",
              "    <tr>\n",
              "      <th>16</th>\n",
              "      <td>충청북도</td>\n",
              "      <td>130.223487</td>\n",
              "    </tr>\n",
              "  </tbody>\n",
              "</table>\n",
              "</div>"
            ],
            "text/plain": [
              "    sdnm_nm      lev_hg\n",
              "0       강원도  257.980002\n",
              "1       경기도   48.164294\n",
              "2      경상남도   88.429309\n",
              "3      경상북도  115.604348\n",
              "4     광주광역시   37.036796\n",
              "5     대구광역시   54.995498\n",
              "6     대전광역시   33.213302\n",
              "7     부산광역시   50.888791\n",
              "8     서울특별시   11.141698\n",
              "9   세종특별자치시   19.943957\n",
              "10    울산광역시   68.482308\n",
              "11    인천광역시    6.142279\n",
              "12     전라남도   50.462616\n",
              "13     전라북도   98.944782\n",
              "14  제주특별자치도   76.412076\n",
              "15     충청남도   34.809562\n",
              "16     충청북도  130.223487"
            ]
          },
          "metadata": {},
          "execution_count": 106
        }
      ]
    },
    {
      "cell_type": "code",
      "metadata": {
        "colab": {
          "base_uri": "https://localhost:8080/",
          "height": 297
        },
        "id": "kH7Bf5PCKreX",
        "outputId": "d539c6c2-73cc-41b8-cd66-608c1fb866b5"
      },
      "source": [
        "plt.figure(figsize=(20,4))\n",
        "sns.barplot(data=df_sdnm, x=\"sdnm_nm\", y=\"lev_hg\")"
      ],
      "execution_count": 107,
      "outputs": [
        {
          "output_type": "execute_result",
          "data": {
            "text/plain": [
              "<matplotlib.axes._subplots.AxesSubplot at 0x7faec3cd4750>"
            ]
          },
          "metadata": {},
          "execution_count": 107
        },
        {
          "output_type": "display_data",
          "data": {
            "image/png": "[encoded data removed]",
            "text/plain": [
              "<Figure size 1440x288 with 1 Axes>"
            ]
          },
          "metadata": {
            "needs_background": "light"
          }
        }
      ]
    },
    {
      "cell_type": "markdown",
      "metadata": {
        "id": "elqKvEarU3vJ"
      },
      "source": [
        "### 부산광역시 구별 지하수 수위"
      ]
    },
    {
      "cell_type": "code",
      "metadata": {
        "colab": {
          "base_uri": "https://localhost:8080/"
        },
        "id": "TSWJ34tbKwL5",
        "outputId": "0ab4055f-efc9-495d-c553-a0962c654ae8"
      },
      "source": [
        "df_sggnm = df[df[\"sdnm_nm\"]==\"부산광역시\"].groupby(\"sggnm_nm\")[\"lev_hg\"].mean()\n",
        "df_sggnm"
      ],
      "execution_count": 108,
      "outputs": [
        {
          "output_type": "execute_result",
          "data": {
            "text/plain": [
              "sggnm_nm\n",
              "기장군     52.819657\n",
              "북구      -6.610658\n",
              "서구     106.245589\n",
              "Name: lev_hg, dtype: float64"
            ]
          },
          "metadata": {},
          "execution_count": 108
        }
      ]
    },
    {
      "cell_type": "code",
      "metadata": {
        "colab": {
          "base_uri": "https://localhost:8080/",
          "height": 297
        },
        "id": "lTSDQS1cKy0k",
        "outputId": "33fb8fb5-2640-4c38-e8ec-c8c1b13f20b3"
      },
      "source": [
        "df_sggnm.plot(figsize=(17,4), kind='bar', rot=0)"
      ],
      "execution_count": 109,
      "outputs": [
        {
          "output_type": "execute_result",
          "data": {
            "text/plain": [
              "<matplotlib.axes._subplots.AxesSubplot at 0x7faec3be6350>"
            ]
          },
          "metadata": {},
          "execution_count": 109
        },
        {
          "output_type": "display_data",
          "data": {
            "image/png": "[encoded data removed]",
            "text/plain": [
              "<Figure size 1224x288 with 1 Axes>"
            ]
          },
          "metadata": {
            "needs_background": "light"
          }
        }
      ]
    },
    {
      "cell_type": "code",
      "metadata": {
        "colab": {
          "base_uri": "https://localhost:8080/",
          "height": 142
        },
        "id": "lZbk7Xg5K0oR",
        "outputId": "9f3416d5-a741-4051-84d1-ef9952b850ef"
      },
      "source": [
        "df_sggnm = df_sggnm.reset_index()\n",
        "df_sggnm"
      ],
      "execution_count": 110,
      "outputs": [
        {
          "output_type": "execute_result",
          "data": {
            "text/html": [
              "<div>\n",
              "<style scoped>\n",
              "    .dataframe tbody tr th:only-of-type {\n",
              "        vertical-align: middle;\n",
              "    }\n",
              "\n",
              "    .dataframe tbody tr th {\n",
              "        vertical-align: top;\n",
              "    }\n",
              "\n",
              "    .dataframe thead th {\n",
              "        text-align: right;\n",
              "    }\n",
              "</style>\n",
              "<table border=\"1\" class=\"dataframe\">\n",
              "  <thead>\n",
              "    <tr style=\"text-align: right;\">\n",
              "      <th></th>\n",
              "      <th>sggnm_nm</th>\n",
              "      <th>lev_hg</th>\n",
              "    </tr>\n",
              "  </thead>\n",
              "  <tbody>\n",
              "    <tr>\n",
              "      <th>0</th>\n",
              "      <td>기장군</td>\n",
              "      <td>52.819657</td>\n",
              "    </tr>\n",
              "    <tr>\n",
              "      <th>1</th>\n",
              "      <td>북구</td>\n",
              "      <td>-6.610658</td>\n",
              "    </tr>\n",
              "    <tr>\n",
              "      <th>2</th>\n",
              "      <td>서구</td>\n",
              "      <td>106.245589</td>\n",
              "    </tr>\n",
              "  </tbody>\n",
              "</table>\n",
              "</div>"
            ],
            "text/plain": [
              "  sggnm_nm      lev_hg\n",
              "0      기장군   52.819657\n",
              "1       북구   -6.610658\n",
              "2       서구  106.245589"
            ]
          },
          "metadata": {},
          "execution_count": 110
        }
      ]
    },
    {
      "cell_type": "code",
      "metadata": {
        "colab": {
          "base_uri": "https://localhost:8080/",
          "height": 297
        },
        "id": "Alge8BQ6K2Nr",
        "outputId": "38c5fbd5-dda7-4347-b831-3f3113c09baa"
      },
      "source": [
        "plt.figure(figsize=(20,4))\n",
        "sns.barplot(data=df_sggnm, x=\"sggnm_nm\", y=\"lev_hg\")"
      ],
      "execution_count": 111,
      "outputs": [
        {
          "output_type": "execute_result",
          "data": {
            "text/plain": [
              "<matplotlib.axes._subplots.AxesSubplot at 0x7faec3ba9e90>"
            ]
          },
          "metadata": {},
          "execution_count": 111
        },
        {
          "output_type": "display_data",
          "data": {
            "image/png": "[encoded data removed]",
            "text/plain": [
              "<Figure size 1440x288 with 1 Axes>"
            ]
          },
          "metadata": {
            "needs_background": "light"
          }
        }
      ]
    },
    {
      "cell_type": "markdown",
      "metadata": {
        "id": "3ciBLQmcU8nk"
      },
      "source": [
        "### 경상남도 시군별 지하수 수위"
      ]
    },
    {
      "cell_type": "code",
      "metadata": {
        "colab": {
          "base_uri": "https://localhost:8080/"
        },
        "id": "KUhFYvoDK34F",
        "outputId": "70f56186-6340-4906-be5b-6b6e602e028b"
      },
      "source": [
        "df_sgnm2 = df[df[\"sdnm_nm\"]==\"경상남도\"].groupby(\"sgnm_nm\")[\"lev_hg\"].mean()\n",
        "df_sgnm2"
      ],
      "execution_count": 112,
      "outputs": [
        {
          "output_type": "execute_result",
          "data": {
            "text/plain": [
              "sgnm_nm\n",
              "거제시     94.817157\n",
              "거창군    231.393789\n",
              "고성군      4.894970\n",
              "김해시      3.262092\n",
              "남해군     81.216732\n",
              "밀양시     42.306329\n",
              "사천시     23.944432\n",
              "산청군    206.159714\n",
              "양산시    110.865792\n",
              "의령군     27.981571\n",
              "진주시     21.915103\n",
              "창녕군     43.719335\n",
              "창원시     12.584031\n",
              "통영시      0.062207\n",
              "하동군     12.403525\n",
              "함안군     25.931136\n",
              "함양군    410.592753\n",
              "합천군     62.454215\n",
              "Name: lev_hg, dtype: float64"
            ]
          },
          "metadata": {},
          "execution_count": 112
        }
      ]
    },
    {
      "cell_type": "code",
      "metadata": {
        "colab": {
          "base_uri": "https://localhost:8080/",
          "height": 297
        },
        "id": "iQY1OrITK5f0",
        "outputId": "26ee0354-eac5-45c8-cc7a-736c826cccb3"
      },
      "source": [
        "df_sgnm2.plot(figsize=(17,4), kind='bar', rot=0)"
      ],
      "execution_count": 113,
      "outputs": [
        {
          "output_type": "execute_result",
          "data": {
            "text/plain": [
              "<matplotlib.axes._subplots.AxesSubplot at 0x7faec3be6310>"
            ]
          },
          "metadata": {},
          "execution_count": 113
        },
        {
          "output_type": "display_data",
          "data": {
            "image/png": "[encoded data removed]",
            "text/plain": [
              "<Figure size 1224x288 with 1 Axes>"
            ]
          },
          "metadata": {
            "needs_background": "light"
          }
        }
      ]
    },
    {
      "cell_type": "code",
      "metadata": {
        "colab": {
          "base_uri": "https://localhost:8080/",
          "height": 603
        },
        "id": "caoabagDK6_u",
        "outputId": "5d38f2af-8980-46f4-b574-545b56ce1dc3"
      },
      "source": [
        "df_sgnm2 = df_sgnm2.reset_index()\n",
        "df_sgnm2"
      ],
      "execution_count": 114,
      "outputs": [
        {
          "output_type": "execute_result",
          "data": {
            "text/html": [
              "<div>\n",
              "<style scoped>\n",
              "    .dataframe tbody tr th:only-of-type {\n",
              "        vertical-align: middle;\n",
              "    }\n",
              "\n",
              "    .dataframe tbody tr th {\n",
              "        vertical-align: top;\n",
              "    }\n",
              "\n",
              "    .dataframe thead th {\n",
              "        text-align: right;\n",
              "    }\n",
              "</style>\n",
              "<table border=\"1\" class=\"dataframe\">\n",
              "  <thead>\n",
              "    <tr style=\"text-align: right;\">\n",
              "      <th></th>\n",
              "      <th>sgnm_nm</th>\n",
              "      <th>lev_hg</th>\n",
              "    </tr>\n",
              "  </thead>\n",
              "  <tbody>\n",
              "    <tr>\n",
              "      <th>0</th>\n",
              "      <td>거제시</td>\n",
              "      <td>94.817157</td>\n",
              "    </tr>\n",
              "    <tr>\n",
              "      <th>1</th>\n",
              "      <td>거창군</td>\n",
              "      <td>231.393789</td>\n",
              "    </tr>\n",
              "    <tr>\n",
              "      <th>2</th>\n",
              "      <td>고성군</td>\n",
              "      <td>4.894970</td>\n",
              "    </tr>\n",
              "    <tr>\n",
              "      <th>3</th>\n",
              "      <td>김해시</td>\n",
              "      <td>3.262092</td>\n",
              "    </tr>\n",
              "    <tr>\n",
              "      <th>4</th>\n",
              "      <td>남해군</td>\n",
              "      <td>81.216732</td>\n",
              "    </tr>\n",
              "    <tr>\n",
              "      <th>5</th>\n",
              "      <td>밀양시</td>\n",
              "      <td>42.306329</td>\n",
              "    </tr>\n",
              "    <tr>\n",
              "      <th>6</th>\n",
              "      <td>사천시</td>\n",
              "      <td>23.944432</td>\n",
              "    </tr>\n",
              "    <tr>\n",
              "      <th>7</th>\n",
              "      <td>산청군</td>\n",
              "      <td>206.159714</td>\n",
              "    </tr>\n",
              "    <tr>\n",
              "      <th>8</th>\n",
              "      <td>양산시</td>\n",
              "      <td>110.865792</td>\n",
              "    </tr>\n",
              "    <tr>\n",
              "      <th>9</th>\n",
              "      <td>의령군</td>\n",
              "      <td>27.981571</td>\n",
              "    </tr>\n",
              "    <tr>\n",
              "      <th>10</th>\n",
              "      <td>진주시</td>\n",
              "      <td>21.915103</td>\n",
              "    </tr>\n",
              "    <tr>\n",
              "      <th>11</th>\n",
              "      <td>창녕군</td>\n",
              "      <td>43.719335</td>\n",
              "    </tr>\n",
              "    <tr>\n",
              "      <th>12</th>\n",
              "      <td>창원시</td>\n",
              "      <td>12.584031</td>\n",
              "    </tr>\n",
              "    <tr>\n",
              "      <th>13</th>\n",
              "      <td>통영시</td>\n",
              "      <td>0.062207</td>\n",
              "    </tr>\n",
              "    <tr>\n",
              "      <th>14</th>\n",
              "      <td>하동군</td>\n",
              "      <td>12.403525</td>\n",
              "    </tr>\n",
              "    <tr>\n",
              "      <th>15</th>\n",
              "      <td>함안군</td>\n",
              "      <td>25.931136</td>\n",
              "    </tr>\n",
              "    <tr>\n",
              "      <th>16</th>\n",
              "      <td>함양군</td>\n",
              "      <td>410.592753</td>\n",
              "    </tr>\n",
              "    <tr>\n",
              "      <th>17</th>\n",
              "      <td>합천군</td>\n",
              "      <td>62.454215</td>\n",
              "    </tr>\n",
              "  </tbody>\n",
              "</table>\n",
              "</div>"
            ],
            "text/plain": [
              "   sgnm_nm      lev_hg\n",
              "0      거제시   94.817157\n",
              "1      거창군  231.393789\n",
              "2      고성군    4.894970\n",
              "3      김해시    3.262092\n",
              "4      남해군   81.216732\n",
              "5      밀양시   42.306329\n",
              "6      사천시   23.944432\n",
              "7      산청군  206.159714\n",
              "8      양산시  110.865792\n",
              "9      의령군   27.981571\n",
              "10     진주시   21.915103\n",
              "11     창녕군   43.719335\n",
              "12     창원시   12.584031\n",
              "13     통영시    0.062207\n",
              "14     하동군   12.403525\n",
              "15     함안군   25.931136\n",
              "16     함양군  410.592753\n",
              "17     합천군   62.454215"
            ]
          },
          "metadata": {},
          "execution_count": 114
        }
      ]
    },
    {
      "cell_type": "code",
      "metadata": {
        "colab": {
          "base_uri": "https://localhost:8080/",
          "height": 297
        },
        "id": "EMsPxN3hK8Z2",
        "outputId": "811d4f08-62c8-4df4-f9de-93c1c3845025"
      },
      "source": [
        "plt.figure(figsize=(20,4))\n",
        "sns.barplot(data=df_sgnm2, x=\"sgnm_nm\", y=\"lev_hg\")"
      ],
      "execution_count": 115,
      "outputs": [
        {
          "output_type": "execute_result",
          "data": {
            "text/plain": [
              "<matplotlib.axes._subplots.AxesSubplot at 0x7faec3a77ad0>"
            ]
          },
          "metadata": {},
          "execution_count": 115
        },
        {
          "output_type": "display_data",
          "data": {
            "image/png": "[encoded data removed]",
            "text/plain": [
              "<Figure size 1440x288 with 1 Axes>"
            ]
          },
          "metadata": {
            "needs_background": "light"
          }
        }
      ]
    },
    {
      "cell_type": "markdown",
      "metadata": {
        "id": "3EGuBjT7VAUB"
      },
      "source": [
        "### 창원합성 관측소의 한달동안의 자하수 수위 변화 분석"
      ]
    },
    {
      "cell_type": "code",
      "metadata": {
        "colab": {
          "base_uri": "https://localhost:8080/",
          "height": 417
        },
        "id": "o0XHQKldK-R2",
        "outputId": "9fdd5102-ce9b-40eb-9e78-589c2db4b0db"
      },
      "source": [
        "df_changwon = df[df['obsv_name_nm']=='창원합성']\n",
        "df_changwon"
      ],
      "execution_count": 156,
      "outputs": [
        {
          "output_type": "execute_result",
          "data": {
            "text/html": [
              "<div>\n",
              "<style scoped>\n",
              "    .dataframe tbody tr th:only-of-type {\n",
              "        vertical-align: middle;\n",
              "    }\n",
              "\n",
              "    .dataframe tbody tr th {\n",
              "        vertical-align: top;\n",
              "    }\n",
              "\n",
              "    .dataframe thead th {\n",
              "        text-align: right;\n",
              "    }\n",
              "</style>\n",
              "<table border=\"1\" class=\"dataframe\">\n",
              "  <thead>\n",
              "    <tr style=\"text-align: right;\">\n",
              "      <th></th>\n",
              "      <th>index</th>\n",
              "      <th>obsv_name_nm</th>\n",
              "      <th>sdnm_nm</th>\n",
              "      <th>sgnm_nm</th>\n",
              "      <th>sggnm_nm</th>\n",
              "      <th>umdnm_nm</th>\n",
              "      <th>ri_nm</th>\n",
              "      <th>decdt_dt</th>\n",
              "      <th>lev_hg</th>\n",
              "      <th>decrst_cn</th>\n",
              "    </tr>\n",
              "  </thead>\n",
              "  <tbody>\n",
              "    <tr>\n",
              "      <th>0</th>\n",
              "      <td>0</td>\n",
              "      <td>창원합성</td>\n",
              "      <td>경상남도</td>\n",
              "      <td>창원시</td>\n",
              "      <td>창원시마산회원구</td>\n",
              "      <td>합성동</td>\n",
              "      <td>0</td>\n",
              "      <td>2020-01-06</td>\n",
              "      <td>17.868</td>\n",
              "      <td>정상</td>\n",
              "    </tr>\n",
              "    <tr>\n",
              "      <th>1</th>\n",
              "      <td>1</td>\n",
              "      <td>창원합성</td>\n",
              "      <td>경상남도</td>\n",
              "      <td>창원시</td>\n",
              "      <td>창원시마산회원구</td>\n",
              "      <td>합성동</td>\n",
              "      <td>0</td>\n",
              "      <td>2020-01-02</td>\n",
              "      <td>17.981</td>\n",
              "      <td>정상</td>\n",
              "    </tr>\n",
              "    <tr>\n",
              "      <th>2</th>\n",
              "      <td>2</td>\n",
              "      <td>창원합성</td>\n",
              "      <td>경상남도</td>\n",
              "      <td>창원시</td>\n",
              "      <td>창원시마산회원구</td>\n",
              "      <td>합성동</td>\n",
              "      <td>0</td>\n",
              "      <td>2020-01-05</td>\n",
              "      <td>17.868</td>\n",
              "      <td>정상</td>\n",
              "    </tr>\n",
              "    <tr>\n",
              "      <th>3</th>\n",
              "      <td>3</td>\n",
              "      <td>창원합성</td>\n",
              "      <td>경상남도</td>\n",
              "      <td>창원시</td>\n",
              "      <td>창원시마산회원구</td>\n",
              "      <td>합성동</td>\n",
              "      <td>0</td>\n",
              "      <td>2020-01-04</td>\n",
              "      <td>17.981</td>\n",
              "      <td>정상</td>\n",
              "    </tr>\n",
              "    <tr>\n",
              "      <th>4</th>\n",
              "      <td>4</td>\n",
              "      <td>창원합성</td>\n",
              "      <td>경상남도</td>\n",
              "      <td>창원시</td>\n",
              "      <td>창원시마산회원구</td>\n",
              "      <td>합성동</td>\n",
              "      <td>0</td>\n",
              "      <td>2020-01-01</td>\n",
              "      <td>17.981</td>\n",
              "      <td>정상</td>\n",
              "    </tr>\n",
              "    <tr>\n",
              "      <th>...</th>\n",
              "      <td>...</td>\n",
              "      <td>...</td>\n",
              "      <td>...</td>\n",
              "      <td>...</td>\n",
              "      <td>...</td>\n",
              "      <td>...</td>\n",
              "      <td>...</td>\n",
              "      <td>...</td>\n",
              "      <td>...</td>\n",
              "      <td>...</td>\n",
              "    </tr>\n",
              "    <tr>\n",
              "      <th>208714</th>\n",
              "      <td>25</td>\n",
              "      <td>창원합성</td>\n",
              "      <td>경상남도</td>\n",
              "      <td>창원시</td>\n",
              "      <td>창원시마산회원구</td>\n",
              "      <td>합성동</td>\n",
              "      <td>0</td>\n",
              "      <td>2021-06-05</td>\n",
              "      <td>18.118</td>\n",
              "      <td>정상</td>\n",
              "    </tr>\n",
              "    <tr>\n",
              "      <th>208715</th>\n",
              "      <td>26</td>\n",
              "      <td>창원합성</td>\n",
              "      <td>경상남도</td>\n",
              "      <td>창원시</td>\n",
              "      <td>창원시마산회원구</td>\n",
              "      <td>합성동</td>\n",
              "      <td>0</td>\n",
              "      <td>2021-06-04</td>\n",
              "      <td>17.981</td>\n",
              "      <td>정상</td>\n",
              "    </tr>\n",
              "    <tr>\n",
              "      <th>208716</th>\n",
              "      <td>27</td>\n",
              "      <td>창원합성</td>\n",
              "      <td>경상남도</td>\n",
              "      <td>창원시</td>\n",
              "      <td>창원시마산회원구</td>\n",
              "      <td>합성동</td>\n",
              "      <td>0</td>\n",
              "      <td>2021-06-03</td>\n",
              "      <td>17.981</td>\n",
              "      <td>정상</td>\n",
              "    </tr>\n",
              "    <tr>\n",
              "      <th>208717</th>\n",
              "      <td>28</td>\n",
              "      <td>창원합성</td>\n",
              "      <td>경상남도</td>\n",
              "      <td>창원시</td>\n",
              "      <td>창원시마산회원구</td>\n",
              "      <td>합성동</td>\n",
              "      <td>0</td>\n",
              "      <td>2021-06-02</td>\n",
              "      <td>17.981</td>\n",
              "      <td>정상</td>\n",
              "    </tr>\n",
              "    <tr>\n",
              "      <th>208718</th>\n",
              "      <td>29</td>\n",
              "      <td>창원합성</td>\n",
              "      <td>경상남도</td>\n",
              "      <td>창원시</td>\n",
              "      <td>창원시마산회원구</td>\n",
              "      <td>합성동</td>\n",
              "      <td>0</td>\n",
              "      <td>2021-06-01</td>\n",
              "      <td>17.981</td>\n",
              "      <td>정상</td>\n",
              "    </tr>\n",
              "  </tbody>\n",
              "</table>\n",
              "<p>543 rows × 10 columns</p>\n",
              "</div>"
            ],
            "text/plain": [
              "        index obsv_name_nm sdnm_nm sgnm_nm  ... ri_nm    decdt_dt  lev_hg decrst_cn\n",
              "0           0         창원합성    경상남도     창원시  ...     0  2020-01-06  17.868        정상\n",
              "1           1         창원합성    경상남도     창원시  ...     0  2020-01-02  17.981        정상\n",
              "2           2         창원합성    경상남도     창원시  ...     0  2020-01-05  17.868        정상\n",
              "3           3         창원합성    경상남도     창원시  ...     0  2020-01-04  17.981        정상\n",
              "4           4         창원합성    경상남도     창원시  ...     0  2020-01-01  17.981        정상\n",
              "...       ...          ...     ...     ...  ...   ...         ...     ...       ...\n",
              "208714     25         창원합성    경상남도     창원시  ...     0  2021-06-05  18.118        정상\n",
              "208715     26         창원합성    경상남도     창원시  ...     0  2021-06-04  17.981        정상\n",
              "208716     27         창원합성    경상남도     창원시  ...     0  2021-06-03  17.981        정상\n",
              "208717     28         창원합성    경상남도     창원시  ...     0  2021-06-02  17.981        정상\n",
              "208718     29         창원합성    경상남도     창원시  ...     0  2021-06-01  17.981        정상\n",
              "\n",
              "[543 rows x 10 columns]"
            ]
          },
          "metadata": {},
          "execution_count": 156
        }
      ]
    },
    {
      "cell_type": "code",
      "metadata": {
        "colab": {
          "base_uri": "https://localhost:8080/",
          "height": 417
        },
        "id": "ObcpZRAMLAOd",
        "outputId": "0ef24a8b-21c0-48e2-9aaf-2e05093a7f37"
      },
      "source": [
        "df_changwon = df_changwon.sort_values(by='decdt_dt' ,ascending=True)\n",
        "df_changwon"
      ],
      "execution_count": 157,
      "outputs": [
        {
          "output_type": "execute_result",
          "data": {
            "text/html": [
              "<div>\n",
              "<style scoped>\n",
              "    .dataframe tbody tr th:only-of-type {\n",
              "        vertical-align: middle;\n",
              "    }\n",
              "\n",
              "    .dataframe tbody tr th {\n",
              "        vertical-align: top;\n",
              "    }\n",
              "\n",
              "    .dataframe thead th {\n",
              "        text-align: right;\n",
              "    }\n",
              "</style>\n",
              "<table border=\"1\" class=\"dataframe\">\n",
              "  <thead>\n",
              "    <tr style=\"text-align: right;\">\n",
              "      <th></th>\n",
              "      <th>index</th>\n",
              "      <th>obsv_name_nm</th>\n",
              "      <th>sdnm_nm</th>\n",
              "      <th>sgnm_nm</th>\n",
              "      <th>sggnm_nm</th>\n",
              "      <th>umdnm_nm</th>\n",
              "      <th>ri_nm</th>\n",
              "      <th>decdt_dt</th>\n",
              "      <th>lev_hg</th>\n",
              "      <th>decrst_cn</th>\n",
              "    </tr>\n",
              "  </thead>\n",
              "  <tbody>\n",
              "    <tr>\n",
              "      <th>4</th>\n",
              "      <td>4</td>\n",
              "      <td>창원합성</td>\n",
              "      <td>경상남도</td>\n",
              "      <td>창원시</td>\n",
              "      <td>창원시마산회원구</td>\n",
              "      <td>합성동</td>\n",
              "      <td>0</td>\n",
              "      <td>2020-01-01</td>\n",
              "      <td>17.981</td>\n",
              "      <td>정상</td>\n",
              "    </tr>\n",
              "    <tr>\n",
              "      <th>1</th>\n",
              "      <td>1</td>\n",
              "      <td>창원합성</td>\n",
              "      <td>경상남도</td>\n",
              "      <td>창원시</td>\n",
              "      <td>창원시마산회원구</td>\n",
              "      <td>합성동</td>\n",
              "      <td>0</td>\n",
              "      <td>2020-01-02</td>\n",
              "      <td>17.981</td>\n",
              "      <td>정상</td>\n",
              "    </tr>\n",
              "    <tr>\n",
              "      <th>5</th>\n",
              "      <td>5</td>\n",
              "      <td>창원합성</td>\n",
              "      <td>경상남도</td>\n",
              "      <td>창원시</td>\n",
              "      <td>창원시마산회원구</td>\n",
              "      <td>합성동</td>\n",
              "      <td>0</td>\n",
              "      <td>2020-01-03</td>\n",
              "      <td>17.981</td>\n",
              "      <td>정상</td>\n",
              "    </tr>\n",
              "    <tr>\n",
              "      <th>3</th>\n",
              "      <td>3</td>\n",
              "      <td>창원합성</td>\n",
              "      <td>경상남도</td>\n",
              "      <td>창원시</td>\n",
              "      <td>창원시마산회원구</td>\n",
              "      <td>합성동</td>\n",
              "      <td>0</td>\n",
              "      <td>2020-01-04</td>\n",
              "      <td>17.981</td>\n",
              "      <td>정상</td>\n",
              "    </tr>\n",
              "    <tr>\n",
              "      <th>2</th>\n",
              "      <td>2</td>\n",
              "      <td>창원합성</td>\n",
              "      <td>경상남도</td>\n",
              "      <td>창원시</td>\n",
              "      <td>창원시마산회원구</td>\n",
              "      <td>합성동</td>\n",
              "      <td>0</td>\n",
              "      <td>2020-01-05</td>\n",
              "      <td>17.868</td>\n",
              "      <td>정상</td>\n",
              "    </tr>\n",
              "    <tr>\n",
              "      <th>...</th>\n",
              "      <td>...</td>\n",
              "      <td>...</td>\n",
              "      <td>...</td>\n",
              "      <td>...</td>\n",
              "      <td>...</td>\n",
              "      <td>...</td>\n",
              "      <td>...</td>\n",
              "      <td>...</td>\n",
              "      <td>...</td>\n",
              "      <td>...</td>\n",
              "    </tr>\n",
              "    <tr>\n",
              "      <th>208693</th>\n",
              "      <td>4</td>\n",
              "      <td>창원합성</td>\n",
              "      <td>경상남도</td>\n",
              "      <td>창원시</td>\n",
              "      <td>창원시마산회원구</td>\n",
              "      <td>합성동</td>\n",
              "      <td>0</td>\n",
              "      <td>2021-06-26</td>\n",
              "      <td>17.981</td>\n",
              "      <td>정상</td>\n",
              "    </tr>\n",
              "    <tr>\n",
              "      <th>208692</th>\n",
              "      <td>3</td>\n",
              "      <td>창원합성</td>\n",
              "      <td>경상남도</td>\n",
              "      <td>창원시</td>\n",
              "      <td>창원시마산회원구</td>\n",
              "      <td>합성동</td>\n",
              "      <td>0</td>\n",
              "      <td>2021-06-27</td>\n",
              "      <td>18.118</td>\n",
              "      <td>정상</td>\n",
              "    </tr>\n",
              "    <tr>\n",
              "      <th>208691</th>\n",
              "      <td>2</td>\n",
              "      <td>창원합성</td>\n",
              "      <td>경상남도</td>\n",
              "      <td>창원시</td>\n",
              "      <td>창원시마산회원구</td>\n",
              "      <td>합성동</td>\n",
              "      <td>0</td>\n",
              "      <td>2021-06-28</td>\n",
              "      <td>18.118</td>\n",
              "      <td>정상</td>\n",
              "    </tr>\n",
              "    <tr>\n",
              "      <th>208690</th>\n",
              "      <td>1</td>\n",
              "      <td>창원합성</td>\n",
              "      <td>경상남도</td>\n",
              "      <td>창원시</td>\n",
              "      <td>창원시마산회원구</td>\n",
              "      <td>합성동</td>\n",
              "      <td>0</td>\n",
              "      <td>2021-06-29</td>\n",
              "      <td>18.118</td>\n",
              "      <td>정상</td>\n",
              "    </tr>\n",
              "    <tr>\n",
              "      <th>208689</th>\n",
              "      <td>0</td>\n",
              "      <td>창원합성</td>\n",
              "      <td>경상남도</td>\n",
              "      <td>창원시</td>\n",
              "      <td>창원시마산회원구</td>\n",
              "      <td>합성동</td>\n",
              "      <td>0</td>\n",
              "      <td>2021-06-30</td>\n",
              "      <td>18.118</td>\n",
              "      <td>정상</td>\n",
              "    </tr>\n",
              "  </tbody>\n",
              "</table>\n",
              "<p>543 rows × 10 columns</p>\n",
              "</div>"
            ],
            "text/plain": [
              "        index obsv_name_nm sdnm_nm sgnm_nm  ... ri_nm    decdt_dt  lev_hg decrst_cn\n",
              "4           4         창원합성    경상남도     창원시  ...     0  2020-01-01  17.981        정상\n",
              "1           1         창원합성    경상남도     창원시  ...     0  2020-01-02  17.981        정상\n",
              "5           5         창원합성    경상남도     창원시  ...     0  2020-01-03  17.981        정상\n",
              "3           3         창원합성    경상남도     창원시  ...     0  2020-01-04  17.981        정상\n",
              "2           2         창원합성    경상남도     창원시  ...     0  2020-01-05  17.868        정상\n",
              "...       ...          ...     ...     ...  ...   ...         ...     ...       ...\n",
              "208693      4         창원합성    경상남도     창원시  ...     0  2021-06-26  17.981        정상\n",
              "208692      3         창원합성    경상남도     창원시  ...     0  2021-06-27  18.118        정상\n",
              "208691      2         창원합성    경상남도     창원시  ...     0  2021-06-28  18.118        정상\n",
              "208690      1         창원합성    경상남도     창원시  ...     0  2021-06-29  18.118        정상\n",
              "208689      0         창원합성    경상남도     창원시  ...     0  2021-06-30  18.118        정상\n",
              "\n",
              "[543 rows x 10 columns]"
            ]
          },
          "metadata": {},
          "execution_count": 157
        }
      ]
    },
    {
      "cell_type": "code",
      "metadata": {
        "colab": {
          "base_uri": "https://localhost:8080/",
          "height": 447
        },
        "id": "4n_OTEiRLCo0",
        "outputId": "155455c5-6ed6-4302-c74e-12c650d41970"
      },
      "source": [
        "df_changwon = df_changwon.set_index(\"decdt_dt\")\n",
        "df_changwon"
      ],
      "execution_count": 158,
      "outputs": [
        {
          "output_type": "execute_result",
          "data": {
            "text/html": [
              "<div>\n",
              "<style scoped>\n",
              "    .dataframe tbody tr th:only-of-type {\n",
              "        vertical-align: middle;\n",
              "    }\n",
              "\n",
              "    .dataframe tbody tr th {\n",
              "        vertical-align: top;\n",
              "    }\n",
              "\n",
              "    .dataframe thead th {\n",
              "        text-align: right;\n",
              "    }\n",
              "</style>\n",
              "<table border=\"1\" class=\"dataframe\">\n",
              "  <thead>\n",
              "    <tr style=\"text-align: right;\">\n",
              "      <th></th>\n",
              "      <th>index</th>\n",
              "      <th>obsv_name_nm</th>\n",
              "      <th>sdnm_nm</th>\n",
              "      <th>sgnm_nm</th>\n",
              "      <th>sggnm_nm</th>\n",
              "      <th>umdnm_nm</th>\n",
              "      <th>ri_nm</th>\n",
              "      <th>lev_hg</th>\n",
              "      <th>decrst_cn</th>\n",
              "    </tr>\n",
              "    <tr>\n",
              "      <th>decdt_dt</th>\n",
              "      <th></th>\n",
              "      <th></th>\n",
              "      <th></th>\n",
              "      <th></th>\n",
              "      <th></th>\n",
              "      <th></th>\n",
              "      <th></th>\n",
              "      <th></th>\n",
              "      <th></th>\n",
              "    </tr>\n",
              "  </thead>\n",
              "  <tbody>\n",
              "    <tr>\n",
              "      <th>2020-01-01</th>\n",
              "      <td>4</td>\n",
              "      <td>창원합성</td>\n",
              "      <td>경상남도</td>\n",
              "      <td>창원시</td>\n",
              "      <td>창원시마산회원구</td>\n",
              "      <td>합성동</td>\n",
              "      <td>0</td>\n",
              "      <td>17.981</td>\n",
              "      <td>정상</td>\n",
              "    </tr>\n",
              "    <tr>\n",
              "      <th>2020-01-02</th>\n",
              "      <td>1</td>\n",
              "      <td>창원합성</td>\n",
              "      <td>경상남도</td>\n",
              "      <td>창원시</td>\n",
              "      <td>창원시마산회원구</td>\n",
              "      <td>합성동</td>\n",
              "      <td>0</td>\n",
              "      <td>17.981</td>\n",
              "      <td>정상</td>\n",
              "    </tr>\n",
              "    <tr>\n",
              "      <th>2020-01-03</th>\n",
              "      <td>5</td>\n",
              "      <td>창원합성</td>\n",
              "      <td>경상남도</td>\n",
              "      <td>창원시</td>\n",
              "      <td>창원시마산회원구</td>\n",
              "      <td>합성동</td>\n",
              "      <td>0</td>\n",
              "      <td>17.981</td>\n",
              "      <td>정상</td>\n",
              "    </tr>\n",
              "    <tr>\n",
              "      <th>2020-01-04</th>\n",
              "      <td>3</td>\n",
              "      <td>창원합성</td>\n",
              "      <td>경상남도</td>\n",
              "      <td>창원시</td>\n",
              "      <td>창원시마산회원구</td>\n",
              "      <td>합성동</td>\n",
              "      <td>0</td>\n",
              "      <td>17.981</td>\n",
              "      <td>정상</td>\n",
              "    </tr>\n",
              "    <tr>\n",
              "      <th>2020-01-05</th>\n",
              "      <td>2</td>\n",
              "      <td>창원합성</td>\n",
              "      <td>경상남도</td>\n",
              "      <td>창원시</td>\n",
              "      <td>창원시마산회원구</td>\n",
              "      <td>합성동</td>\n",
              "      <td>0</td>\n",
              "      <td>17.868</td>\n",
              "      <td>정상</td>\n",
              "    </tr>\n",
              "    <tr>\n",
              "      <th>...</th>\n",
              "      <td>...</td>\n",
              "      <td>...</td>\n",
              "      <td>...</td>\n",
              "      <td>...</td>\n",
              "      <td>...</td>\n",
              "      <td>...</td>\n",
              "      <td>...</td>\n",
              "      <td>...</td>\n",
              "      <td>...</td>\n",
              "    </tr>\n",
              "    <tr>\n",
              "      <th>2021-06-26</th>\n",
              "      <td>4</td>\n",
              "      <td>창원합성</td>\n",
              "      <td>경상남도</td>\n",
              "      <td>창원시</td>\n",
              "      <td>창원시마산회원구</td>\n",
              "      <td>합성동</td>\n",
              "      <td>0</td>\n",
              "      <td>17.981</td>\n",
              "      <td>정상</td>\n",
              "    </tr>\n",
              "    <tr>\n",
              "      <th>2021-06-27</th>\n",
              "      <td>3</td>\n",
              "      <td>창원합성</td>\n",
              "      <td>경상남도</td>\n",
              "      <td>창원시</td>\n",
              "      <td>창원시마산회원구</td>\n",
              "      <td>합성동</td>\n",
              "      <td>0</td>\n",
              "      <td>18.118</td>\n",
              "      <td>정상</td>\n",
              "    </tr>\n",
              "    <tr>\n",
              "      <th>2021-06-28</th>\n",
              "      <td>2</td>\n",
              "      <td>창원합성</td>\n",
              "      <td>경상남도</td>\n",
              "      <td>창원시</td>\n",
              "      <td>창원시마산회원구</td>\n",
              "      <td>합성동</td>\n",
              "      <td>0</td>\n",
              "      <td>18.118</td>\n",
              "      <td>정상</td>\n",
              "    </tr>\n",
              "    <tr>\n",
              "      <th>2021-06-29</th>\n",
              "      <td>1</td>\n",
              "      <td>창원합성</td>\n",
              "      <td>경상남도</td>\n",
              "      <td>창원시</td>\n",
              "      <td>창원시마산회원구</td>\n",
              "      <td>합성동</td>\n",
              "      <td>0</td>\n",
              "      <td>18.118</td>\n",
              "      <td>정상</td>\n",
              "    </tr>\n",
              "    <tr>\n",
              "      <th>2021-06-30</th>\n",
              "      <td>0</td>\n",
              "      <td>창원합성</td>\n",
              "      <td>경상남도</td>\n",
              "      <td>창원시</td>\n",
              "      <td>창원시마산회원구</td>\n",
              "      <td>합성동</td>\n",
              "      <td>0</td>\n",
              "      <td>18.118</td>\n",
              "      <td>정상</td>\n",
              "    </tr>\n",
              "  </tbody>\n",
              "</table>\n",
              "<p>543 rows × 9 columns</p>\n",
              "</div>"
            ],
            "text/plain": [
              "            index obsv_name_nm sdnm_nm sgnm_nm  ... umdnm_nm ri_nm  lev_hg  decrst_cn\n",
              "decdt_dt                                        ...                                  \n",
              "2020-01-01      4         창원합성    경상남도     창원시  ...      합성동     0  17.981         정상\n",
              "2020-01-02      1         창원합성    경상남도     창원시  ...      합성동     0  17.981         정상\n",
              "2020-01-03      5         창원합성    경상남도     창원시  ...      합성동     0  17.981         정상\n",
              "2020-01-04      3         창원합성    경상남도     창원시  ...      합성동     0  17.981         정상\n",
              "2020-01-05      2         창원합성    경상남도     창원시  ...      합성동     0  17.868         정상\n",
              "...           ...          ...     ...     ...  ...      ...   ...     ...        ...\n",
              "2021-06-26      4         창원합성    경상남도     창원시  ...      합성동     0  17.981         정상\n",
              "2021-06-27      3         창원합성    경상남도     창원시  ...      합성동     0  18.118         정상\n",
              "2021-06-28      2         창원합성    경상남도     창원시  ...      합성동     0  18.118         정상\n",
              "2021-06-29      1         창원합성    경상남도     창원시  ...      합성동     0  18.118         정상\n",
              "2021-06-30      0         창원합성    경상남도     창원시  ...      합성동     0  18.118         정상\n",
              "\n",
              "[543 rows x 9 columns]"
            ]
          },
          "metadata": {},
          "execution_count": 158
        }
      ]
    },
    {
      "cell_type": "code",
      "metadata": {
        "colab": {
          "base_uri": "https://localhost:8080/",
          "height": 297
        },
        "id": "y7YwHi72LEGB",
        "outputId": "b7d57d00-eea2-470d-ebef-150774f5e4e0"
      },
      "source": [
        "df_changwon['lev_hg'].plot()"
      ],
      "execution_count": 159,
      "outputs": [
        {
          "output_type": "execute_result",
          "data": {
            "text/plain": [
              "<matplotlib.axes._subplots.AxesSubplot at 0x7faec198b090>"
            ]
          },
          "metadata": {},
          "execution_count": 159
        },
        {
          "output_type": "display_data",
          "data": {
            "image/png": "[encoded data removed]",
            "text/plain": [
              "<Figure size 432x288 with 1 Axes>"
            ]
          },
          "metadata": {
            "needs_background": "light"
          }
        }
      ]
    },
    {
      "cell_type": "markdown",
      "metadata": {
        "id": "mlSVK2QGVSXh"
      },
      "source": [
        "## 분석 결과"
      ]
    },
    {
      "cell_type": "code",
      "metadata": {
        "colab": {
          "base_uri": "https://localhost:8080/",
          "height": 417
        },
        "id": "6Jsaol2qLLQe",
        "outputId": "291d210e-5de8-4a73-acd3-0751b009b27e"
      },
      "source": [
        "df2 = df.copy()\n",
        "df2"
      ],
      "execution_count": 155,
      "outputs": [
        {
          "output_type": "execute_result",
          "data": {
            "text/html": [
              "<div>\n",
              "<style scoped>\n",
              "    .dataframe tbody tr th:only-of-type {\n",
              "        vertical-align: middle;\n",
              "    }\n",
              "\n",
              "    .dataframe tbody tr th {\n",
              "        vertical-align: top;\n",
              "    }\n",
              "\n",
              "    .dataframe thead th {\n",
              "        text-align: right;\n",
              "    }\n",
              "</style>\n",
              "<table border=\"1\" class=\"dataframe\">\n",
              "  <thead>\n",
              "    <tr style=\"text-align: right;\">\n",
              "      <th></th>\n",
              "      <th>index</th>\n",
              "      <th>obsv_name_nm</th>\n",
              "      <th>sdnm_nm</th>\n",
              "      <th>sgnm_nm</th>\n",
              "      <th>sggnm_nm</th>\n",
              "      <th>umdnm_nm</th>\n",
              "      <th>ri_nm</th>\n",
              "      <th>decdt_dt</th>\n",
              "      <th>lev_hg</th>\n",
              "      <th>decrst_cn</th>\n",
              "    </tr>\n",
              "  </thead>\n",
              "  <tbody>\n",
              "    <tr>\n",
              "      <th>0</th>\n",
              "      <td>0</td>\n",
              "      <td>창원합성</td>\n",
              "      <td>경상남도</td>\n",
              "      <td>창원시</td>\n",
              "      <td>창원시마산회원구</td>\n",
              "      <td>합성동</td>\n",
              "      <td>0</td>\n",
              "      <td>2020-01-06</td>\n",
              "      <td>17.868</td>\n",
              "      <td>정상</td>\n",
              "    </tr>\n",
              "    <tr>\n",
              "      <th>1</th>\n",
              "      <td>1</td>\n",
              "      <td>창원합성</td>\n",
              "      <td>경상남도</td>\n",
              "      <td>창원시</td>\n",
              "      <td>창원시마산회원구</td>\n",
              "      <td>합성동</td>\n",
              "      <td>0</td>\n",
              "      <td>2020-01-02</td>\n",
              "      <td>17.981</td>\n",
              "      <td>정상</td>\n",
              "    </tr>\n",
              "    <tr>\n",
              "      <th>2</th>\n",
              "      <td>2</td>\n",
              "      <td>창원합성</td>\n",
              "      <td>경상남도</td>\n",
              "      <td>창원시</td>\n",
              "      <td>창원시마산회원구</td>\n",
              "      <td>합성동</td>\n",
              "      <td>0</td>\n",
              "      <td>2020-01-05</td>\n",
              "      <td>17.868</td>\n",
              "      <td>정상</td>\n",
              "    </tr>\n",
              "    <tr>\n",
              "      <th>3</th>\n",
              "      <td>3</td>\n",
              "      <td>창원합성</td>\n",
              "      <td>경상남도</td>\n",
              "      <td>창원시</td>\n",
              "      <td>창원시마산회원구</td>\n",
              "      <td>합성동</td>\n",
              "      <td>0</td>\n",
              "      <td>2020-01-04</td>\n",
              "      <td>17.981</td>\n",
              "      <td>정상</td>\n",
              "    </tr>\n",
              "    <tr>\n",
              "      <th>4</th>\n",
              "      <td>4</td>\n",
              "      <td>창원합성</td>\n",
              "      <td>경상남도</td>\n",
              "      <td>창원시</td>\n",
              "      <td>창원시마산회원구</td>\n",
              "      <td>합성동</td>\n",
              "      <td>0</td>\n",
              "      <td>2020-01-01</td>\n",
              "      <td>17.981</td>\n",
              "      <td>정상</td>\n",
              "    </tr>\n",
              "    <tr>\n",
              "      <th>...</th>\n",
              "      <td>...</td>\n",
              "      <td>...</td>\n",
              "      <td>...</td>\n",
              "      <td>...</td>\n",
              "      <td>...</td>\n",
              "      <td>...</td>\n",
              "      <td>...</td>\n",
              "      <td>...</td>\n",
              "      <td>...</td>\n",
              "      <td>...</td>\n",
              "    </tr>\n",
              "    <tr>\n",
              "      <th>220917</th>\n",
              "      <td>12228</td>\n",
              "      <td>영천금노</td>\n",
              "      <td>경상북도</td>\n",
              "      <td>영천시</td>\n",
              "      <td>영천시</td>\n",
              "      <td>금노동</td>\n",
              "      <td>0</td>\n",
              "      <td>2021-06-05</td>\n",
              "      <td>71.339</td>\n",
              "      <td>정상</td>\n",
              "    </tr>\n",
              "    <tr>\n",
              "      <th>220918</th>\n",
              "      <td>12229</td>\n",
              "      <td>영천금노</td>\n",
              "      <td>경상북도</td>\n",
              "      <td>영천시</td>\n",
              "      <td>영천시</td>\n",
              "      <td>금노동</td>\n",
              "      <td>0</td>\n",
              "      <td>2021-06-04</td>\n",
              "      <td>71.235</td>\n",
              "      <td>정상</td>\n",
              "    </tr>\n",
              "    <tr>\n",
              "      <th>220919</th>\n",
              "      <td>12230</td>\n",
              "      <td>영천금노</td>\n",
              "      <td>경상북도</td>\n",
              "      <td>영천시</td>\n",
              "      <td>영천시</td>\n",
              "      <td>금노동</td>\n",
              "      <td>0</td>\n",
              "      <td>2021-06-03</td>\n",
              "      <td>71.235</td>\n",
              "      <td>정상</td>\n",
              "    </tr>\n",
              "    <tr>\n",
              "      <th>220920</th>\n",
              "      <td>12231</td>\n",
              "      <td>영천금노</td>\n",
              "      <td>경상북도</td>\n",
              "      <td>영천시</td>\n",
              "      <td>영천시</td>\n",
              "      <td>금노동</td>\n",
              "      <td>0</td>\n",
              "      <td>2021-06-02</td>\n",
              "      <td>71.235</td>\n",
              "      <td>정상</td>\n",
              "    </tr>\n",
              "    <tr>\n",
              "      <th>220921</th>\n",
              "      <td>12232</td>\n",
              "      <td>영천금노</td>\n",
              "      <td>경상북도</td>\n",
              "      <td>영천시</td>\n",
              "      <td>영천시</td>\n",
              "      <td>금노동</td>\n",
              "      <td>0</td>\n",
              "      <td>2021-06-01</td>\n",
              "      <td>71.235</td>\n",
              "      <td>정상</td>\n",
              "    </tr>\n",
              "  </tbody>\n",
              "</table>\n",
              "<p>220922 rows × 10 columns</p>\n",
              "</div>"
            ],
            "text/plain": [
              "        index obsv_name_nm sdnm_nm sgnm_nm  ... ri_nm    decdt_dt  lev_hg decrst_cn\n",
              "0           0         창원합성    경상남도     창원시  ...     0  2020-01-06  17.868        정상\n",
              "1           1         창원합성    경상남도     창원시  ...     0  2020-01-02  17.981        정상\n",
              "2           2         창원합성    경상남도     창원시  ...     0  2020-01-05  17.868        정상\n",
              "3           3         창원합성    경상남도     창원시  ...     0  2020-01-04  17.981        정상\n",
              "4           4         창원합성    경상남도     창원시  ...     0  2020-01-01  17.981        정상\n",
              "...       ...          ...     ...     ...  ...   ...         ...     ...       ...\n",
              "220917  12228         영천금노    경상북도     영천시  ...     0  2021-06-05  71.339        정상\n",
              "220918  12229         영천금노    경상북도     영천시  ...     0  2021-06-04  71.235        정상\n",
              "220919  12230         영천금노    경상북도     영천시  ...     0  2021-06-03  71.235        정상\n",
              "220920  12231         영천금노    경상북도     영천시  ...     0  2021-06-02  71.235        정상\n",
              "220921  12232         영천금노    경상북도     영천시  ...     0  2021-06-01  71.235        정상\n",
              "\n",
              "[220922 rows x 10 columns]"
            ]
          },
          "metadata": {},
          "execution_count": 155
        }
      ]
    },
    {
      "cell_type": "code",
      "metadata": {
        "colab": {
          "base_uri": "https://localhost:8080/",
          "height": 417
        },
        "id": "poaq8sVYLM-d",
        "outputId": "ba614382-8d57-47c2-b8dc-7c503936a8e7"
      },
      "source": [
        "for i in range(len(df2[\"decrst_cn\"])):\n",
        "  if df2.loc[i, \"decrst_cn\"] == '정상':\n",
        "    df2.loc[i, \"decrst_cn\"] = 0\n",
        "  elif df2.loc[i, \"decrst_cn\"] == '관심':\n",
        "    df2.loc[i, \"decrst_cn\"] = 1\n",
        "  elif df2.loc[i, \"decrst_cn\"] == '경계':\n",
        "    df2.loc[i, \"decrst_cn\"] = 2\n",
        "  elif df2.loc[i, \"decrst_cn\"] == '주의':\n",
        "    df2.loc[i, \"decrst_cn\"] = 3\n",
        "\n",
        "df2"
      ],
      "execution_count": 121,
      "outputs": [
        {
          "output_type": "execute_result",
          "data": {
            "text/html": [
              "<div>\n",
              "<style scoped>\n",
              "    .dataframe tbody tr th:only-of-type {\n",
              "        vertical-align: middle;\n",
              "    }\n",
              "\n",
              "    .dataframe tbody tr th {\n",
              "        vertical-align: top;\n",
              "    }\n",
              "\n",
              "    .dataframe thead th {\n",
              "        text-align: right;\n",
              "    }\n",
              "</style>\n",
              "<table border=\"1\" class=\"dataframe\">\n",
              "  <thead>\n",
              "    <tr style=\"text-align: right;\">\n",
              "      <th></th>\n",
              "      <th>index</th>\n",
              "      <th>obsv_name_nm</th>\n",
              "      <th>sdnm_nm</th>\n",
              "      <th>sgnm_nm</th>\n",
              "      <th>sggnm_nm</th>\n",
              "      <th>umdnm_nm</th>\n",
              "      <th>ri_nm</th>\n",
              "      <th>decdt_dt</th>\n",
              "      <th>lev_hg</th>\n",
              "      <th>decrst_cn</th>\n",
              "    </tr>\n",
              "  </thead>\n",
              "  <tbody>\n",
              "    <tr>\n",
              "      <th>0</th>\n",
              "      <td>0</td>\n",
              "      <td>창원합성</td>\n",
              "      <td>경상남도</td>\n",
              "      <td>창원시</td>\n",
              "      <td>창원시마산회원구</td>\n",
              "      <td>합성동</td>\n",
              "      <td>0</td>\n",
              "      <td>2020-01-06</td>\n",
              "      <td>17.868</td>\n",
              "      <td>0</td>\n",
              "    </tr>\n",
              "    <tr>\n",
              "      <th>1</th>\n",
              "      <td>1</td>\n",
              "      <td>창원합성</td>\n",
              "      <td>경상남도</td>\n",
              "      <td>창원시</td>\n",
              "      <td>창원시마산회원구</td>\n",
              "      <td>합성동</td>\n",
              "      <td>0</td>\n",
              "      <td>2020-01-02</td>\n",
              "      <td>17.981</td>\n",
              "      <td>0</td>\n",
              "    </tr>\n",
              "    <tr>\n",
              "      <th>2</th>\n",
              "      <td>2</td>\n",
              "      <td>창원합성</td>\n",
              "      <td>경상남도</td>\n",
              "      <td>창원시</td>\n",
              "      <td>창원시마산회원구</td>\n",
              "      <td>합성동</td>\n",
              "      <td>0</td>\n",
              "      <td>2020-01-05</td>\n",
              "      <td>17.868</td>\n",
              "      <td>0</td>\n",
              "    </tr>\n",
              "    <tr>\n",
              "      <th>3</th>\n",
              "      <td>3</td>\n",
              "      <td>창원합성</td>\n",
              "      <td>경상남도</td>\n",
              "      <td>창원시</td>\n",
              "      <td>창원시마산회원구</td>\n",
              "      <td>합성동</td>\n",
              "      <td>0</td>\n",
              "      <td>2020-01-04</td>\n",
              "      <td>17.981</td>\n",
              "      <td>0</td>\n",
              "    </tr>\n",
              "    <tr>\n",
              "      <th>4</th>\n",
              "      <td>4</td>\n",
              "      <td>창원합성</td>\n",
              "      <td>경상남도</td>\n",
              "      <td>창원시</td>\n",
              "      <td>창원시마산회원구</td>\n",
              "      <td>합성동</td>\n",
              "      <td>0</td>\n",
              "      <td>2020-01-01</td>\n",
              "      <td>17.981</td>\n",
              "      <td>0</td>\n",
              "    </tr>\n",
              "    <tr>\n",
              "      <th>...</th>\n",
              "      <td>...</td>\n",
              "      <td>...</td>\n",
              "      <td>...</td>\n",
              "      <td>...</td>\n",
              "      <td>...</td>\n",
              "      <td>...</td>\n",
              "      <td>...</td>\n",
              "      <td>...</td>\n",
              "      <td>...</td>\n",
              "      <td>...</td>\n",
              "    </tr>\n",
              "    <tr>\n",
              "      <th>220917</th>\n",
              "      <td>12228</td>\n",
              "      <td>영천금노</td>\n",
              "      <td>경상북도</td>\n",
              "      <td>영천시</td>\n",
              "      <td>영천시</td>\n",
              "      <td>금노동</td>\n",
              "      <td>0</td>\n",
              "      <td>2021-06-05</td>\n",
              "      <td>71.339</td>\n",
              "      <td>0</td>\n",
              "    </tr>\n",
              "    <tr>\n",
              "      <th>220918</th>\n",
              "      <td>12229</td>\n",
              "      <td>영천금노</td>\n",
              "      <td>경상북도</td>\n",
              "      <td>영천시</td>\n",
              "      <td>영천시</td>\n",
              "      <td>금노동</td>\n",
              "      <td>0</td>\n",
              "      <td>2021-06-04</td>\n",
              "      <td>71.235</td>\n",
              "      <td>0</td>\n",
              "    </tr>\n",
              "    <tr>\n",
              "      <th>220919</th>\n",
              "      <td>12230</td>\n",
              "      <td>영천금노</td>\n",
              "      <td>경상북도</td>\n",
              "      <td>영천시</td>\n",
              "      <td>영천시</td>\n",
              "      <td>금노동</td>\n",
              "      <td>0</td>\n",
              "      <td>2021-06-03</td>\n",
              "      <td>71.235</td>\n",
              "      <td>0</td>\n",
              "    </tr>\n",
              "    <tr>\n",
              "      <th>220920</th>\n",
              "      <td>12231</td>\n",
              "      <td>영천금노</td>\n",
              "      <td>경상북도</td>\n",
              "      <td>영천시</td>\n",
              "      <td>영천시</td>\n",
              "      <td>금노동</td>\n",
              "      <td>0</td>\n",
              "      <td>2021-06-02</td>\n",
              "      <td>71.235</td>\n",
              "      <td>0</td>\n",
              "    </tr>\n",
              "    <tr>\n",
              "      <th>220921</th>\n",
              "      <td>12232</td>\n",
              "      <td>영천금노</td>\n",
              "      <td>경상북도</td>\n",
              "      <td>영천시</td>\n",
              "      <td>영천시</td>\n",
              "      <td>금노동</td>\n",
              "      <td>0</td>\n",
              "      <td>2021-06-01</td>\n",
              "      <td>71.235</td>\n",
              "      <td>0</td>\n",
              "    </tr>\n",
              "  </tbody>\n",
              "</table>\n",
              "<p>220922 rows × 10 columns</p>\n",
              "</div>"
            ],
            "text/plain": [
              "        index obsv_name_nm sdnm_nm sgnm_nm  ... ri_nm    decdt_dt  lev_hg decrst_cn\n",
              "0           0         창원합성    경상남도     창원시  ...     0  2020-01-06  17.868         0\n",
              "1           1         창원합성    경상남도     창원시  ...     0  2020-01-02  17.981         0\n",
              "2           2         창원합성    경상남도     창원시  ...     0  2020-01-05  17.868         0\n",
              "3           3         창원합성    경상남도     창원시  ...     0  2020-01-04  17.981         0\n",
              "4           4         창원합성    경상남도     창원시  ...     0  2020-01-01  17.981         0\n",
              "...       ...          ...     ...     ...  ...   ...         ...     ...       ...\n",
              "220917  12228         영천금노    경상북도     영천시  ...     0  2021-06-05  71.339         0\n",
              "220918  12229         영천금노    경상북도     영천시  ...     0  2021-06-04  71.235         0\n",
              "220919  12230         영천금노    경상북도     영천시  ...     0  2021-06-03  71.235         0\n",
              "220920  12231         영천금노    경상북도     영천시  ...     0  2021-06-02  71.235         0\n",
              "220921  12232         영천금노    경상북도     영천시  ...     0  2021-06-01  71.235         0\n",
              "\n",
              "[220922 rows x 10 columns]"
            ]
          },
          "metadata": {},
          "execution_count": 121
        }
      ]
    },
    {
      "cell_type": "code",
      "metadata": {
        "colab": {
          "base_uri": "https://localhost:8080/"
        },
        "id": "amSu98dRLOnA",
        "outputId": "2de36cb3-9486-4981-c58f-d0394d3381e0"
      },
      "source": [
        "df2 = df2.astype({'decrst_cn': 'int'})\n",
        "print(df2.dtypes)"
      ],
      "execution_count": 122,
      "outputs": [
        {
          "output_type": "stream",
          "text": [
            "index             int64\n",
            "obsv_name_nm     object\n",
            "sdnm_nm          object\n",
            "sgnm_nm          object\n",
            "sggnm_nm         object\n",
            "umdnm_nm         object\n",
            "ri_nm            object\n",
            "decdt_dt         object\n",
            "lev_hg          float64\n",
            "decrst_cn         int64\n",
            "dtype: object\n"
          ],
          "name": "stdout"
        }
      ]
    },
    {
      "cell_type": "markdown",
      "metadata": {
        "id": "5SGHjiQjVY_8"
      },
      "source": [
        "### 시도별 지하수 수위 분석"
      ]
    },
    {
      "cell_type": "code",
      "metadata": {
        "colab": {
          "base_uri": "https://localhost:8080/"
        },
        "id": "_Y3Bp0-CLTtn",
        "outputId": "e780b620-72e5-4217-ea69-757ae47b8f22"
      },
      "source": [
        "df2_sdnm = df2.groupby(\"sdnm_nm\")[\"decrst_cn\"].mean()\n",
        "df2_sdnm"
      ],
      "execution_count": 123,
      "outputs": [
        {
          "output_type": "execute_result",
          "data": {
            "text/plain": [
              "sdnm_nm\n",
              "강원도        0.437624\n",
              "경기도        0.231665\n",
              "경상남도       0.461049\n",
              "경상북도       0.435877\n",
              "광주광역시      0.308837\n",
              "대구광역시      0.019409\n",
              "대전광역시      0.193340\n",
              "부산광역시      0.087892\n",
              "서울특별시      0.170762\n",
              "세종특별자치시    0.471785\n",
              "울산광역시      0.590595\n",
              "인천광역시      0.274074\n",
              "전라남도       0.371897\n",
              "전라북도       0.475959\n",
              "제주특별자치도    0.000000\n",
              "충청남도       0.367899\n",
              "충청북도       0.293303\n",
              "Name: decrst_cn, dtype: float64"
            ]
          },
          "metadata": {},
          "execution_count": 123
        }
      ]
    },
    {
      "cell_type": "code",
      "metadata": {
        "colab": {
          "base_uri": "https://localhost:8080/",
          "height": 297
        },
        "id": "c0RpbdaWLVis",
        "outputId": "86d5c20f-7d1c-4d7a-883e-87fb6624fcd8"
      },
      "source": [
        "df2_sdnm.plot(figsize=(17,4), kind='bar', rot=0)"
      ],
      "execution_count": 124,
      "outputs": [
        {
          "output_type": "execute_result",
          "data": {
            "text/plain": [
              "<matplotlib.axes._subplots.AxesSubplot at 0x7faec38be4d0>"
            ]
          },
          "metadata": {},
          "execution_count": 124
        },
        {
          "output_type": "display_data",
          "data": {
            "image/png": "[encoded data removed]",
            "text/plain": [
              "<Figure size 1224x288 with 1 Axes>"
            ]
          },
          "metadata": {
            "needs_background": "light"
          }
        }
      ]
    },
    {
      "cell_type": "code",
      "metadata": {
        "colab": {
          "base_uri": "https://localhost:8080/",
          "height": 573
        },
        "id": "d7GdaEwvLXFO",
        "outputId": "5f1573e3-b134-4b1e-df94-b9d4a62946b6"
      },
      "source": [
        "df2_sdnm = df2_sdnm.reset_index()\n",
        "df2_sdnm"
      ],
      "execution_count": 125,
      "outputs": [
        {
          "output_type": "execute_result",
          "data": {
            "text/html": [
              "<div>\n",
              "<style scoped>\n",
              "    .dataframe tbody tr th:only-of-type {\n",
              "        vertical-align: middle;\n",
              "    }\n",
              "\n",
              "    .dataframe tbody tr th {\n",
              "        vertical-align: top;\n",
              "    }\n",
              "\n",
              "    .dataframe thead th {\n",
              "        text-align: right;\n",
              "    }\n",
              "</style>\n",
              "<table border=\"1\" class=\"dataframe\">\n",
              "  <thead>\n",
              "    <tr style=\"text-align: right;\">\n",
              "      <th></th>\n",
              "      <th>sdnm_nm</th>\n",
              "      <th>decrst_cn</th>\n",
              "    </tr>\n",
              "  </thead>\n",
              "  <tbody>\n",
              "    <tr>\n",
              "      <th>0</th>\n",
              "      <td>강원도</td>\n",
              "      <td>0.437624</td>\n",
              "    </tr>\n",
              "    <tr>\n",
              "      <th>1</th>\n",
              "      <td>경기도</td>\n",
              "      <td>0.231665</td>\n",
              "    </tr>\n",
              "    <tr>\n",
              "      <th>2</th>\n",
              "      <td>경상남도</td>\n",
              "      <td>0.461049</td>\n",
              "    </tr>\n",
              "    <tr>\n",
              "      <th>3</th>\n",
              "      <td>경상북도</td>\n",
              "      <td>0.435877</td>\n",
              "    </tr>\n",
              "    <tr>\n",
              "      <th>4</th>\n",
              "      <td>광주광역시</td>\n",
              "      <td>0.308837</td>\n",
              "    </tr>\n",
              "    <tr>\n",
              "      <th>5</th>\n",
              "      <td>대구광역시</td>\n",
              "      <td>0.019409</td>\n",
              "    </tr>\n",
              "    <tr>\n",
              "      <th>6</th>\n",
              "      <td>대전광역시</td>\n",
              "      <td>0.193340</td>\n",
              "    </tr>\n",
              "    <tr>\n",
              "      <th>7</th>\n",
              "      <td>부산광역시</td>\n",
              "      <td>0.087892</td>\n",
              "    </tr>\n",
              "    <tr>\n",
              "      <th>8</th>\n",
              "      <td>서울특별시</td>\n",
              "      <td>0.170762</td>\n",
              "    </tr>\n",
              "    <tr>\n",
              "      <th>9</th>\n",
              "      <td>세종특별자치시</td>\n",
              "      <td>0.471785</td>\n",
              "    </tr>\n",
              "    <tr>\n",
              "      <th>10</th>\n",
              "      <td>울산광역시</td>\n",
              "      <td>0.590595</td>\n",
              "    </tr>\n",
              "    <tr>\n",
              "      <th>11</th>\n",
              "      <td>인천광역시</td>\n",
              "      <td>0.274074</td>\n",
              "    </tr>\n",
              "    <tr>\n",
              "      <th>12</th>\n",
              "      <td>전라남도</td>\n",
              "      <td>0.371897</td>\n",
              "    </tr>\n",
              "    <tr>\n",
              "      <th>13</th>\n",
              "      <td>전라북도</td>\n",
              "      <td>0.475959</td>\n",
              "    </tr>\n",
              "    <tr>\n",
              "      <th>14</th>\n",
              "      <td>제주특별자치도</td>\n",
              "      <td>0.000000</td>\n",
              "    </tr>\n",
              "    <tr>\n",
              "      <th>15</th>\n",
              "      <td>충청남도</td>\n",
              "      <td>0.367899</td>\n",
              "    </tr>\n",
              "    <tr>\n",
              "      <th>16</th>\n",
              "      <td>충청북도</td>\n",
              "      <td>0.293303</td>\n",
              "    </tr>\n",
              "  </tbody>\n",
              "</table>\n",
              "</div>"
            ],
            "text/plain": [
              "    sdnm_nm  decrst_cn\n",
              "0       강원도   0.437624\n",
              "1       경기도   0.231665\n",
              "2      경상남도   0.461049\n",
              "3      경상북도   0.435877\n",
              "4     광주광역시   0.308837\n",
              "5     대구광역시   0.019409\n",
              "6     대전광역시   0.193340\n",
              "7     부산광역시   0.087892\n",
              "8     서울특별시   0.170762\n",
              "9   세종특별자치시   0.471785\n",
              "10    울산광역시   0.590595\n",
              "11    인천광역시   0.274074\n",
              "12     전라남도   0.371897\n",
              "13     전라북도   0.475959\n",
              "14  제주특별자치도   0.000000\n",
              "15     충청남도   0.367899\n",
              "16     충청북도   0.293303"
            ]
          },
          "metadata": {},
          "execution_count": 125
        }
      ]
    },
    {
      "cell_type": "code",
      "metadata": {
        "colab": {
          "base_uri": "https://localhost:8080/",
          "height": 297
        },
        "id": "x5pT1CpYLYGT",
        "outputId": "77381fc1-8fa7-4117-efdd-31df54aea863"
      },
      "source": [
        "plt.figure(figsize=(20,4))\n",
        "sns.barplot(data=df2_sdnm, x=\"sdnm_nm\", y=\"decrst_cn\")"
      ],
      "execution_count": 126,
      "outputs": [
        {
          "output_type": "execute_result",
          "data": {
            "text/plain": [
              "<matplotlib.axes._subplots.AxesSubplot at 0x7faec37f2810>"
            ]
          },
          "metadata": {},
          "execution_count": 126
        },
        {
          "output_type": "display_data",
          "data": {
            "image/png": "[encoded data removed]",
            "text/plain": [
              "<Figure size 1440x288 with 1 Axes>"
            ]
          },
          "metadata": {
            "needs_background": "light"
          }
        }
      ]
    },
    {
      "cell_type": "markdown",
      "metadata": {
        "id": "TVjG4XTlVca5"
      },
      "source": [
        "### 부산광역시 구별 지하수 수위"
      ]
    },
    {
      "cell_type": "code",
      "metadata": {
        "colab": {
          "base_uri": "https://localhost:8080/"
        },
        "id": "j8JPrSrkLZhh",
        "outputId": "20384021-5d33-491d-f571-8fa3a84a55fc"
      },
      "source": [
        "df2_sggnm = df2[df2[\"sdnm_nm\"]==\"부산광역시\"].groupby(\"sggnm_nm\")[\"decrst_cn\"].mean()\n",
        "df2_sggnm"
      ],
      "execution_count": 127,
      "outputs": [
        {
          "output_type": "execute_result",
          "data": {
            "text/plain": [
              "sggnm_nm\n",
              "기장군    0.263352\n",
              "북구     0.000000\n",
              "서구     0.000000\n",
              "Name: decrst_cn, dtype: float64"
            ]
          },
          "metadata": {},
          "execution_count": 127
        }
      ]
    },
    {
      "cell_type": "code",
      "metadata": {
        "colab": {
          "base_uri": "https://localhost:8080/",
          "height": 297
        },
        "id": "907vIwphLa__",
        "outputId": "266c28e0-9b3f-429c-8e54-36757ea3b00e"
      },
      "source": [
        "df2_sggnm.plot(figsize=(17,4), kind='bar', rot=0)"
      ],
      "execution_count": 128,
      "outputs": [
        {
          "output_type": "execute_result",
          "data": {
            "text/plain": [
              "<matplotlib.axes._subplots.AxesSubplot at 0x7faec3ee0350>"
            ]
          },
          "metadata": {},
          "execution_count": 128
        },
        {
          "output_type": "display_data",
          "data": {
            "image/png": "[encoded data removed]",
            "text/plain": [
              "<Figure size 1224x288 with 1 Axes>"
            ]
          },
          "metadata": {
            "needs_background": "light"
          }
        }
      ]
    },
    {
      "cell_type": "code",
      "metadata": {
        "colab": {
          "base_uri": "https://localhost:8080/",
          "height": 142
        },
        "id": "1ZbamEuULcSE",
        "outputId": "f82e3c6b-fdc1-4a0b-a942-773407ba2a26"
      },
      "source": [
        "df2_sggnm = df2_sggnm.reset_index()\n",
        "df2_sggnm"
      ],
      "execution_count": 129,
      "outputs": [
        {
          "output_type": "execute_result",
          "data": {
            "text/html": [
              "<div>\n",
              "<style scoped>\n",
              "    .dataframe tbody tr th:only-of-type {\n",
              "        vertical-align: middle;\n",
              "    }\n",
              "\n",
              "    .dataframe tbody tr th {\n",
              "        vertical-align: top;\n",
              "    }\n",
              "\n",
              "    .dataframe thead th {\n",
              "        text-align: right;\n",
              "    }\n",
              "</style>\n",
              "<table border=\"1\" class=\"dataframe\">\n",
              "  <thead>\n",
              "    <tr style=\"text-align: right;\">\n",
              "      <th></th>\n",
              "      <th>sggnm_nm</th>\n",
              "      <th>decrst_cn</th>\n",
              "    </tr>\n",
              "  </thead>\n",
              "  <tbody>\n",
              "    <tr>\n",
              "      <th>0</th>\n",
              "      <td>기장군</td>\n",
              "      <td>0.263352</td>\n",
              "    </tr>\n",
              "    <tr>\n",
              "      <th>1</th>\n",
              "      <td>북구</td>\n",
              "      <td>0.000000</td>\n",
              "    </tr>\n",
              "    <tr>\n",
              "      <th>2</th>\n",
              "      <td>서구</td>\n",
              "      <td>0.000000</td>\n",
              "    </tr>\n",
              "  </tbody>\n",
              "</table>\n",
              "</div>"
            ],
            "text/plain": [
              "  sggnm_nm  decrst_cn\n",
              "0      기장군   0.263352\n",
              "1       북구   0.000000\n",
              "2       서구   0.000000"
            ]
          },
          "metadata": {},
          "execution_count": 129
        }
      ]
    },
    {
      "cell_type": "code",
      "metadata": {
        "colab": {
          "base_uri": "https://localhost:8080/",
          "height": 297
        },
        "id": "vOEGmzEULdbt",
        "outputId": "eb180120-c537-4e42-9f61-b8463668652a"
      },
      "source": [
        "plt.figure(figsize=(20,4))\n",
        "sns.barplot(data=df2_sggnm, x=\"sggnm_nm\", y=\"decrst_cn\")"
      ],
      "execution_count": 130,
      "outputs": [
        {
          "output_type": "execute_result",
          "data": {
            "text/plain": [
              "<matplotlib.axes._subplots.AxesSubplot at 0x7faec3690990>"
            ]
          },
          "metadata": {},
          "execution_count": 130
        },
        {
          "output_type": "display_data",
          "data": {
            "image/png": "[encoded data removed]",
            "text/plain": [
              "<Figure size 1440x288 with 1 Axes>"
            ]
          },
          "metadata": {
            "needs_background": "light"
          }
        }
      ]
    },
    {
      "cell_type": "code",
      "metadata": {
        "colab": {
          "base_uri": "https://localhost:8080/"
        },
        "id": "RQuOkpIyLe84",
        "outputId": "a1e169b2-42f2-466b-9c0f-eaf586469918"
      },
      "source": [
        "df2_sgnm2 = df2[df2[\"sdnm_nm\"]==\"경상남도\"].groupby(\"sgnm_nm\")[\"decrst_cn\"].mean()\n",
        "df2_sgnm2"
      ],
      "execution_count": 131,
      "outputs": [
        {
          "output_type": "execute_result",
          "data": {
            "text/plain": [
              "sgnm_nm\n",
              "거제시    1.710866\n",
              "거창군    0.861094\n",
              "고성군    0.268293\n",
              "김해시    0.481690\n",
              "남해군    0.022305\n",
              "밀양시    0.224615\n",
              "사천시    0.155285\n",
              "산청군    0.311955\n",
              "양산시    0.046125\n",
              "의령군    0.177819\n",
              "진주시    0.059963\n",
              "창녕군    0.085855\n",
              "창원시    0.009278\n",
              "통영시    0.000000\n",
              "하동군    1.340050\n",
              "함안군    0.904807\n",
              "함양군    0.609500\n",
              "합천군    0.460866\n",
              "Name: decrst_cn, dtype: float64"
            ]
          },
          "metadata": {},
          "execution_count": 131
        }
      ]
    },
    {
      "cell_type": "code",
      "metadata": {
        "colab": {
          "base_uri": "https://localhost:8080/",
          "height": 297
        },
        "id": "naQoUPOWLgXH",
        "outputId": "17c8335e-2023-48ea-858f-6e221ccc52e6"
      },
      "source": [
        "df2_sgnm2.plot(figsize=(17,4), kind='bar', rot=0)"
      ],
      "execution_count": 132,
      "outputs": [
        {
          "output_type": "execute_result",
          "data": {
            "text/plain": [
              "<matplotlib.axes._subplots.AxesSubplot at 0x7faec367e810>"
            ]
          },
          "metadata": {},
          "execution_count": 132
        },
        {
          "output_type": "display_data",
          "data": {
            "image/png": "[encoded data removed]",
            "text/plain": [
              "<Figure size 1224x288 with 1 Axes>"
            ]
          },
          "metadata": {
            "needs_background": "light"
          }
        }
      ]
    },
    {
      "cell_type": "code",
      "metadata": {
        "colab": {
          "base_uri": "https://localhost:8080/",
          "height": 603
        },
        "id": "Xxx_DziuLiMX",
        "outputId": "e9b57073-b6aa-4fdd-c34d-29a60e7184ed"
      },
      "source": [
        "df2_sgnm2 = df2_sgnm2.reset_index()\n",
        "df2_sgnm2"
      ],
      "execution_count": 133,
      "outputs": [
        {
          "output_type": "execute_result",
          "data": {
            "text/html": [
              "<div>\n",
              "<style scoped>\n",
              "    .dataframe tbody tr th:only-of-type {\n",
              "        vertical-align: middle;\n",
              "    }\n",
              "\n",
              "    .dataframe tbody tr th {\n",
              "        vertical-align: top;\n",
              "    }\n",
              "\n",
              "    .dataframe thead th {\n",
              "        text-align: right;\n",
              "    }\n",
              "</style>\n",
              "<table border=\"1\" class=\"dataframe\">\n",
              "  <thead>\n",
              "    <tr style=\"text-align: right;\">\n",
              "      <th></th>\n",
              "      <th>sgnm_nm</th>\n",
              "      <th>decrst_cn</th>\n",
              "    </tr>\n",
              "  </thead>\n",
              "  <tbody>\n",
              "    <tr>\n",
              "      <th>0</th>\n",
              "      <td>거제시</td>\n",
              "      <td>1.710866</td>\n",
              "    </tr>\n",
              "    <tr>\n",
              "      <th>1</th>\n",
              "      <td>거창군</td>\n",
              "      <td>0.861094</td>\n",
              "    </tr>\n",
              "    <tr>\n",
              "      <th>2</th>\n",
              "      <td>고성군</td>\n",
              "      <td>0.268293</td>\n",
              "    </tr>\n",
              "    <tr>\n",
              "      <th>3</th>\n",
              "      <td>김해시</td>\n",
              "      <td>0.481690</td>\n",
              "    </tr>\n",
              "    <tr>\n",
              "      <th>4</th>\n",
              "      <td>남해군</td>\n",
              "      <td>0.022305</td>\n",
              "    </tr>\n",
              "    <tr>\n",
              "      <th>5</th>\n",
              "      <td>밀양시</td>\n",
              "      <td>0.224615</td>\n",
              "    </tr>\n",
              "    <tr>\n",
              "      <th>6</th>\n",
              "      <td>사천시</td>\n",
              "      <td>0.155285</td>\n",
              "    </tr>\n",
              "    <tr>\n",
              "      <th>7</th>\n",
              "      <td>산청군</td>\n",
              "      <td>0.311955</td>\n",
              "    </tr>\n",
              "    <tr>\n",
              "      <th>8</th>\n",
              "      <td>양산시</td>\n",
              "      <td>0.046125</td>\n",
              "    </tr>\n",
              "    <tr>\n",
              "      <th>9</th>\n",
              "      <td>의령군</td>\n",
              "      <td>0.177819</td>\n",
              "    </tr>\n",
              "    <tr>\n",
              "      <th>10</th>\n",
              "      <td>진주시</td>\n",
              "      <td>0.059963</td>\n",
              "    </tr>\n",
              "    <tr>\n",
              "      <th>11</th>\n",
              "      <td>창녕군</td>\n",
              "      <td>0.085855</td>\n",
              "    </tr>\n",
              "    <tr>\n",
              "      <th>12</th>\n",
              "      <td>창원시</td>\n",
              "      <td>0.009278</td>\n",
              "    </tr>\n",
              "    <tr>\n",
              "      <th>13</th>\n",
              "      <td>통영시</td>\n",
              "      <td>0.000000</td>\n",
              "    </tr>\n",
              "    <tr>\n",
              "      <th>14</th>\n",
              "      <td>하동군</td>\n",
              "      <td>1.340050</td>\n",
              "    </tr>\n",
              "    <tr>\n",
              "      <th>15</th>\n",
              "      <td>함안군</td>\n",
              "      <td>0.904807</td>\n",
              "    </tr>\n",
              "    <tr>\n",
              "      <th>16</th>\n",
              "      <td>함양군</td>\n",
              "      <td>0.609500</td>\n",
              "    </tr>\n",
              "    <tr>\n",
              "      <th>17</th>\n",
              "      <td>합천군</td>\n",
              "      <td>0.460866</td>\n",
              "    </tr>\n",
              "  </tbody>\n",
              "</table>\n",
              "</div>"
            ],
            "text/plain": [
              "   sgnm_nm  decrst_cn\n",
              "0      거제시   1.710866\n",
              "1      거창군   0.861094\n",
              "2      고성군   0.268293\n",
              "3      김해시   0.481690\n",
              "4      남해군   0.022305\n",
              "5      밀양시   0.224615\n",
              "6      사천시   0.155285\n",
              "7      산청군   0.311955\n",
              "8      양산시   0.046125\n",
              "9      의령군   0.177819\n",
              "10     진주시   0.059963\n",
              "11     창녕군   0.085855\n",
              "12     창원시   0.009278\n",
              "13     통영시   0.000000\n",
              "14     하동군   1.340050\n",
              "15     함안군   0.904807\n",
              "16     함양군   0.609500\n",
              "17     합천군   0.460866"
            ]
          },
          "metadata": {},
          "execution_count": 133
        }
      ]
    },
    {
      "cell_type": "code",
      "metadata": {
        "colab": {
          "base_uri": "https://localhost:8080/",
          "height": 180
        },
        "id": "IeMlLZQfLkb3",
        "outputId": "8210118c-c751-4b91-d1ab-30513fe67c13"
      },
      "source": [
        "plt.figure(figsize=(20,4))\n",
        "sns.barplot(data=df2_sgnm2, x=\"sgnm_nm\", y=\"decrst_cn\")"
      ],
      "execution_count": 134,
      "outputs": [
        {
          "output_type": "execute_result",
          "data": {
            "text/plain": [
              "<matplotlib.axes._subplots.AxesSubplot at 0x7faec3789c90>"
            ]
          },
          "metadata": {},
          "execution_count": 134
        },
        {
          "output_type": "display_data",
          "data": {
            "image/png": "[encoded data removed]",
            "text/plain": [
              "<Figure size 1440x288 with 1 Axes>"
            ]
          },
          "metadata": {
            "needs_background": "light"
          }
        }
      ]
    },
    {
      "cell_type": "markdown",
      "metadata": {
        "id": "WnpK48-UVj5C"
      },
      "source": [
        "### 창원합성 관측소의 한달동안의 자하수 수위 변화 분석"
      ]
    },
    {
      "cell_type": "code",
      "metadata": {
        "colab": {
          "base_uri": "https://localhost:8080/",
          "height": 605
        },
        "id": "vQiuhUROLkkH",
        "outputId": "4cde7721-2453-447e-b8ab-f5fb1199001b"
      },
      "source": [
        "df2_changwon = df2[df2['sgnm_nm']=='거제시']\n",
        "df2_changwon"
      ],
      "execution_count": 140,
      "outputs": [
        {
          "output_type": "execute_result",
          "data": {
            "text/html": [
              "<div>\n",
              "<style scoped>\n",
              "    .dataframe tbody tr th:only-of-type {\n",
              "        vertical-align: middle;\n",
              "    }\n",
              "\n",
              "    .dataframe tbody tr th {\n",
              "        vertical-align: top;\n",
              "    }\n",
              "\n",
              "    .dataframe thead th {\n",
              "        text-align: right;\n",
              "    }\n",
              "</style>\n",
              "<table border=\"1\" class=\"dataframe\">\n",
              "  <thead>\n",
              "    <tr style=\"text-align: right;\">\n",
              "      <th></th>\n",
              "      <th>index</th>\n",
              "      <th>obsv_name_nm</th>\n",
              "      <th>sdnm_nm</th>\n",
              "      <th>sgnm_nm</th>\n",
              "      <th>sggnm_nm</th>\n",
              "      <th>umdnm_nm</th>\n",
              "      <th>ri_nm</th>\n",
              "      <th>decdt_dt</th>\n",
              "      <th>lev_hg</th>\n",
              "      <th>decrst_cn</th>\n",
              "    </tr>\n",
              "  </thead>\n",
              "  <tbody>\n",
              "    <tr>\n",
              "      <th>4037</th>\n",
              "      <td>4037</td>\n",
              "      <td>거제연초</td>\n",
              "      <td>경상남도</td>\n",
              "      <td>거제시</td>\n",
              "      <td>거제시</td>\n",
              "      <td>연초면</td>\n",
              "      <td>덕치리</td>\n",
              "      <td>2020-01-06</td>\n",
              "      <td>51.712</td>\n",
              "      <td>2</td>\n",
              "    </tr>\n",
              "    <tr>\n",
              "      <th>4038</th>\n",
              "      <td>4038</td>\n",
              "      <td>거제연초</td>\n",
              "      <td>경상남도</td>\n",
              "      <td>거제시</td>\n",
              "      <td>거제시</td>\n",
              "      <td>연초면</td>\n",
              "      <td>덕치리</td>\n",
              "      <td>2020-01-05</td>\n",
              "      <td>51.712</td>\n",
              "      <td>2</td>\n",
              "    </tr>\n",
              "    <tr>\n",
              "      <th>4039</th>\n",
              "      <td>4039</td>\n",
              "      <td>거제연초</td>\n",
              "      <td>경상남도</td>\n",
              "      <td>거제시</td>\n",
              "      <td>거제시</td>\n",
              "      <td>연초면</td>\n",
              "      <td>덕치리</td>\n",
              "      <td>2020-01-01</td>\n",
              "      <td>51.712</td>\n",
              "      <td>2</td>\n",
              "    </tr>\n",
              "    <tr>\n",
              "      <th>4040</th>\n",
              "      <td>4040</td>\n",
              "      <td>거제연초</td>\n",
              "      <td>경상남도</td>\n",
              "      <td>거제시</td>\n",
              "      <td>거제시</td>\n",
              "      <td>연초면</td>\n",
              "      <td>덕치리</td>\n",
              "      <td>2020-01-03</td>\n",
              "      <td>51.712</td>\n",
              "      <td>2</td>\n",
              "    </tr>\n",
              "    <tr>\n",
              "      <th>4041</th>\n",
              "      <td>4041</td>\n",
              "      <td>거제연초</td>\n",
              "      <td>경상남도</td>\n",
              "      <td>거제시</td>\n",
              "      <td>거제시</td>\n",
              "      <td>연초면</td>\n",
              "      <td>덕치리</td>\n",
              "      <td>2020-01-02</td>\n",
              "      <td>51.712</td>\n",
              "      <td>2</td>\n",
              "    </tr>\n",
              "    <tr>\n",
              "      <th>...</th>\n",
              "      <td>...</td>\n",
              "      <td>...</td>\n",
              "      <td>...</td>\n",
              "      <td>...</td>\n",
              "      <td>...</td>\n",
              "      <td>...</td>\n",
              "      <td>...</td>\n",
              "      <td>...</td>\n",
              "      <td>...</td>\n",
              "      <td>...</td>\n",
              "    </tr>\n",
              "    <tr>\n",
              "      <th>215911</th>\n",
              "      <td>7222</td>\n",
              "      <td>거제신현</td>\n",
              "      <td>경상남도</td>\n",
              "      <td>거제시</td>\n",
              "      <td>거제시</td>\n",
              "      <td>삼거동</td>\n",
              "      <td>0</td>\n",
              "      <td>2021-06-05</td>\n",
              "      <td>136.743</td>\n",
              "      <td>1</td>\n",
              "    </tr>\n",
              "    <tr>\n",
              "      <th>215912</th>\n",
              "      <td>7223</td>\n",
              "      <td>거제신현</td>\n",
              "      <td>경상남도</td>\n",
              "      <td>거제시</td>\n",
              "      <td>거제시</td>\n",
              "      <td>삼거동</td>\n",
              "      <td>0</td>\n",
              "      <td>2021-06-04</td>\n",
              "      <td>136.867</td>\n",
              "      <td>0</td>\n",
              "    </tr>\n",
              "    <tr>\n",
              "      <th>215913</th>\n",
              "      <td>7224</td>\n",
              "      <td>거제신현</td>\n",
              "      <td>경상남도</td>\n",
              "      <td>거제시</td>\n",
              "      <td>거제시</td>\n",
              "      <td>삼거동</td>\n",
              "      <td>0</td>\n",
              "      <td>2021-06-03</td>\n",
              "      <td>136.616</td>\n",
              "      <td>2</td>\n",
              "    </tr>\n",
              "    <tr>\n",
              "      <th>215914</th>\n",
              "      <td>7225</td>\n",
              "      <td>거제신현</td>\n",
              "      <td>경상남도</td>\n",
              "      <td>거제시</td>\n",
              "      <td>거제시</td>\n",
              "      <td>삼거동</td>\n",
              "      <td>0</td>\n",
              "      <td>2021-06-02</td>\n",
              "      <td>136.616</td>\n",
              "      <td>2</td>\n",
              "    </tr>\n",
              "    <tr>\n",
              "      <th>215915</th>\n",
              "      <td>7226</td>\n",
              "      <td>거제신현</td>\n",
              "      <td>경상남도</td>\n",
              "      <td>거제시</td>\n",
              "      <td>거제시</td>\n",
              "      <td>삼거동</td>\n",
              "      <td>0</td>\n",
              "      <td>2021-06-01</td>\n",
              "      <td>136.616</td>\n",
              "      <td>2</td>\n",
              "    </tr>\n",
              "  </tbody>\n",
              "</table>\n",
              "<p>1086 rows × 10 columns</p>\n",
              "</div>"
            ],
            "text/plain": [
              "        index obsv_name_nm sdnm_nm  ...    decdt_dt   lev_hg decrst_cn\n",
              "4037     4037         거제연초    경상남도  ...  2020-01-06   51.712         2\n",
              "4038     4038         거제연초    경상남도  ...  2020-01-05   51.712         2\n",
              "4039     4039         거제연초    경상남도  ...  2020-01-01   51.712         2\n",
              "4040     4040         거제연초    경상남도  ...  2020-01-03   51.712         2\n",
              "4041     4041         거제연초    경상남도  ...  2020-01-02   51.712         2\n",
              "...       ...          ...     ...  ...         ...      ...       ...\n",
              "215911   7222         거제신현    경상남도  ...  2021-06-05  136.743         1\n",
              "215912   7223         거제신현    경상남도  ...  2021-06-04  136.867         0\n",
              "215913   7224         거제신현    경상남도  ...  2021-06-03  136.616         2\n",
              "215914   7225         거제신현    경상남도  ...  2021-06-02  136.616         2\n",
              "215915   7226         거제신현    경상남도  ...  2021-06-01  136.616         2\n",
              "\n",
              "[1086 rows x 10 columns]"
            ]
          },
          "metadata": {},
          "execution_count": 140
        }
      ]
    },
    {
      "cell_type": "code",
      "metadata": {
        "colab": {
          "base_uri": "https://localhost:8080/",
          "height": 605
        },
        "id": "kzvSjLALLp0j",
        "outputId": "c16dfebe-dd8b-4399-9ba5-6f8df669f365"
      },
      "source": [
        "df2_changwon = df2_changwon.sort_values(by='decdt_dt' ,ascending=True)\n",
        "df2_changwon"
      ],
      "execution_count": 141,
      "outputs": [
        {
          "output_type": "execute_result",
          "data": {
            "text/html": [
              "<div>\n",
              "<style scoped>\n",
              "    .dataframe tbody tr th:only-of-type {\n",
              "        vertical-align: middle;\n",
              "    }\n",
              "\n",
              "    .dataframe tbody tr th {\n",
              "        vertical-align: top;\n",
              "    }\n",
              "\n",
              "    .dataframe thead th {\n",
              "        text-align: right;\n",
              "    }\n",
              "</style>\n",
              "<table border=\"1\" class=\"dataframe\">\n",
              "  <thead>\n",
              "    <tr style=\"text-align: right;\">\n",
              "      <th></th>\n",
              "      <th>index</th>\n",
              "      <th>obsv_name_nm</th>\n",
              "      <th>sdnm_nm</th>\n",
              "      <th>sgnm_nm</th>\n",
              "      <th>sggnm_nm</th>\n",
              "      <th>umdnm_nm</th>\n",
              "      <th>ri_nm</th>\n",
              "      <th>decdt_dt</th>\n",
              "      <th>lev_hg</th>\n",
              "      <th>decrst_cn</th>\n",
              "    </tr>\n",
              "  </thead>\n",
              "  <tbody>\n",
              "    <tr>\n",
              "      <th>4039</th>\n",
              "      <td>4039</td>\n",
              "      <td>거제연초</td>\n",
              "      <td>경상남도</td>\n",
              "      <td>거제시</td>\n",
              "      <td>거제시</td>\n",
              "      <td>연초면</td>\n",
              "      <td>덕치리</td>\n",
              "      <td>2020-01-01</td>\n",
              "      <td>51.712</td>\n",
              "      <td>2</td>\n",
              "    </tr>\n",
              "    <tr>\n",
              "      <th>7395</th>\n",
              "      <td>7395</td>\n",
              "      <td>거제신현</td>\n",
              "      <td>경상남도</td>\n",
              "      <td>거제시</td>\n",
              "      <td>거제시</td>\n",
              "      <td>삼거동</td>\n",
              "      <td>0</td>\n",
              "      <td>2020-01-01</td>\n",
              "      <td>136.616</td>\n",
              "      <td>2</td>\n",
              "    </tr>\n",
              "    <tr>\n",
              "      <th>4041</th>\n",
              "      <td>4041</td>\n",
              "      <td>거제연초</td>\n",
              "      <td>경상남도</td>\n",
              "      <td>거제시</td>\n",
              "      <td>거제시</td>\n",
              "      <td>연초면</td>\n",
              "      <td>덕치리</td>\n",
              "      <td>2020-01-02</td>\n",
              "      <td>51.712</td>\n",
              "      <td>2</td>\n",
              "    </tr>\n",
              "    <tr>\n",
              "      <th>7399</th>\n",
              "      <td>7399</td>\n",
              "      <td>거제신현</td>\n",
              "      <td>경상남도</td>\n",
              "      <td>거제시</td>\n",
              "      <td>거제시</td>\n",
              "      <td>삼거동</td>\n",
              "      <td>0</td>\n",
              "      <td>2020-01-02</td>\n",
              "      <td>136.616</td>\n",
              "      <td>2</td>\n",
              "    </tr>\n",
              "    <tr>\n",
              "      <th>4040</th>\n",
              "      <td>4040</td>\n",
              "      <td>거제연초</td>\n",
              "      <td>경상남도</td>\n",
              "      <td>거제시</td>\n",
              "      <td>거제시</td>\n",
              "      <td>연초면</td>\n",
              "      <td>덕치리</td>\n",
              "      <td>2020-01-03</td>\n",
              "      <td>51.712</td>\n",
              "      <td>2</td>\n",
              "    </tr>\n",
              "    <tr>\n",
              "      <th>...</th>\n",
              "      <td>...</td>\n",
              "      <td>...</td>\n",
              "      <td>...</td>\n",
              "      <td>...</td>\n",
              "      <td>...</td>\n",
              "      <td>...</td>\n",
              "      <td>...</td>\n",
              "      <td>...</td>\n",
              "      <td>...</td>\n",
              "      <td>...</td>\n",
              "    </tr>\n",
              "    <tr>\n",
              "      <th>215888</th>\n",
              "      <td>7199</td>\n",
              "      <td>거제신현</td>\n",
              "      <td>경상남도</td>\n",
              "      <td>거제시</td>\n",
              "      <td>거제시</td>\n",
              "      <td>삼거동</td>\n",
              "      <td>0</td>\n",
              "      <td>2021-06-28</td>\n",
              "      <td>136.616</td>\n",
              "      <td>2</td>\n",
              "    </tr>\n",
              "    <tr>\n",
              "      <th>215887</th>\n",
              "      <td>7198</td>\n",
              "      <td>거제신현</td>\n",
              "      <td>경상남도</td>\n",
              "      <td>거제시</td>\n",
              "      <td>거제시</td>\n",
              "      <td>삼거동</td>\n",
              "      <td>0</td>\n",
              "      <td>2021-06-29</td>\n",
              "      <td>136.616</td>\n",
              "      <td>2</td>\n",
              "    </tr>\n",
              "    <tr>\n",
              "      <th>212647</th>\n",
              "      <td>3958</td>\n",
              "      <td>거제연초</td>\n",
              "      <td>경상남도</td>\n",
              "      <td>거제시</td>\n",
              "      <td>거제시</td>\n",
              "      <td>연초면</td>\n",
              "      <td>덕치리</td>\n",
              "      <td>2021-06-29</td>\n",
              "      <td>51.712</td>\n",
              "      <td>2</td>\n",
              "    </tr>\n",
              "    <tr>\n",
              "      <th>212646</th>\n",
              "      <td>3957</td>\n",
              "      <td>거제연초</td>\n",
              "      <td>경상남도</td>\n",
              "      <td>거제시</td>\n",
              "      <td>거제시</td>\n",
              "      <td>연초면</td>\n",
              "      <td>덕치리</td>\n",
              "      <td>2021-06-30</td>\n",
              "      <td>51.712</td>\n",
              "      <td>2</td>\n",
              "    </tr>\n",
              "    <tr>\n",
              "      <th>215886</th>\n",
              "      <td>7197</td>\n",
              "      <td>거제신현</td>\n",
              "      <td>경상남도</td>\n",
              "      <td>거제시</td>\n",
              "      <td>거제시</td>\n",
              "      <td>삼거동</td>\n",
              "      <td>0</td>\n",
              "      <td>2021-06-30</td>\n",
              "      <td>136.616</td>\n",
              "      <td>2</td>\n",
              "    </tr>\n",
              "  </tbody>\n",
              "</table>\n",
              "<p>1086 rows × 10 columns</p>\n",
              "</div>"
            ],
            "text/plain": [
              "        index obsv_name_nm sdnm_nm  ...    decdt_dt   lev_hg decrst_cn\n",
              "4039     4039         거제연초    경상남도  ...  2020-01-01   51.712         2\n",
              "7395     7395         거제신현    경상남도  ...  2020-01-01  136.616         2\n",
              "4041     4041         거제연초    경상남도  ...  2020-01-02   51.712         2\n",
              "7399     7399         거제신현    경상남도  ...  2020-01-02  136.616         2\n",
              "4040     4040         거제연초    경상남도  ...  2020-01-03   51.712         2\n",
              "...       ...          ...     ...  ...         ...      ...       ...\n",
              "215888   7199         거제신현    경상남도  ...  2021-06-28  136.616         2\n",
              "215887   7198         거제신현    경상남도  ...  2021-06-29  136.616         2\n",
              "212647   3958         거제연초    경상남도  ...  2021-06-29   51.712         2\n",
              "212646   3957         거제연초    경상남도  ...  2021-06-30   51.712         2\n",
              "215886   7197         거제신현    경상남도  ...  2021-06-30  136.616         2\n",
              "\n",
              "[1086 rows x 10 columns]"
            ]
          },
          "metadata": {},
          "execution_count": 141
        }
      ]
    },
    {
      "cell_type": "code",
      "metadata": {
        "colab": {
          "base_uri": "https://localhost:8080/",
          "height": 635
        },
        "id": "I8utoK7OLro5",
        "outputId": "553728f2-16b4-4dcb-e56e-bf433ffd62a1"
      },
      "source": [
        "df2_changwon = df2_changwon.set_index(\"decdt_dt\")\n",
        "df2_changwon"
      ],
      "execution_count": 142,
      "outputs": [
        {
          "output_type": "execute_result",
          "data": {
            "text/html": [
              "<div>\n",
              "<style scoped>\n",
              "    .dataframe tbody tr th:only-of-type {\n",
              "        vertical-align: middle;\n",
              "    }\n",
              "\n",
              "    .dataframe tbody tr th {\n",
              "        vertical-align: top;\n",
              "    }\n",
              "\n",
              "    .dataframe thead th {\n",
              "        text-align: right;\n",
              "    }\n",
              "</style>\n",
              "<table border=\"1\" class=\"dataframe\">\n",
              "  <thead>\n",
              "    <tr style=\"text-align: right;\">\n",
              "      <th></th>\n",
              "      <th>index</th>\n",
              "      <th>obsv_name_nm</th>\n",
              "      <th>sdnm_nm</th>\n",
              "      <th>sgnm_nm</th>\n",
              "      <th>sggnm_nm</th>\n",
              "      <th>umdnm_nm</th>\n",
              "      <th>ri_nm</th>\n",
              "      <th>lev_hg</th>\n",
              "      <th>decrst_cn</th>\n",
              "    </tr>\n",
              "    <tr>\n",
              "      <th>decdt_dt</th>\n",
              "      <th></th>\n",
              "      <th></th>\n",
              "      <th></th>\n",
              "      <th></th>\n",
              "      <th></th>\n",
              "      <th></th>\n",
              "      <th></th>\n",
              "      <th></th>\n",
              "      <th></th>\n",
              "    </tr>\n",
              "  </thead>\n",
              "  <tbody>\n",
              "    <tr>\n",
              "      <th>2020-01-01</th>\n",
              "      <td>4039</td>\n",
              "      <td>거제연초</td>\n",
              "      <td>경상남도</td>\n",
              "      <td>거제시</td>\n",
              "      <td>거제시</td>\n",
              "      <td>연초면</td>\n",
              "      <td>덕치리</td>\n",
              "      <td>51.712</td>\n",
              "      <td>2</td>\n",
              "    </tr>\n",
              "    <tr>\n",
              "      <th>2020-01-01</th>\n",
              "      <td>7395</td>\n",
              "      <td>거제신현</td>\n",
              "      <td>경상남도</td>\n",
              "      <td>거제시</td>\n",
              "      <td>거제시</td>\n",
              "      <td>삼거동</td>\n",
              "      <td>0</td>\n",
              "      <td>136.616</td>\n",
              "      <td>2</td>\n",
              "    </tr>\n",
              "    <tr>\n",
              "      <th>2020-01-02</th>\n",
              "      <td>4041</td>\n",
              "      <td>거제연초</td>\n",
              "      <td>경상남도</td>\n",
              "      <td>거제시</td>\n",
              "      <td>거제시</td>\n",
              "      <td>연초면</td>\n",
              "      <td>덕치리</td>\n",
              "      <td>51.712</td>\n",
              "      <td>2</td>\n",
              "    </tr>\n",
              "    <tr>\n",
              "      <th>2020-01-02</th>\n",
              "      <td>7399</td>\n",
              "      <td>거제신현</td>\n",
              "      <td>경상남도</td>\n",
              "      <td>거제시</td>\n",
              "      <td>거제시</td>\n",
              "      <td>삼거동</td>\n",
              "      <td>0</td>\n",
              "      <td>136.616</td>\n",
              "      <td>2</td>\n",
              "    </tr>\n",
              "    <tr>\n",
              "      <th>2020-01-03</th>\n",
              "      <td>4040</td>\n",
              "      <td>거제연초</td>\n",
              "      <td>경상남도</td>\n",
              "      <td>거제시</td>\n",
              "      <td>거제시</td>\n",
              "      <td>연초면</td>\n",
              "      <td>덕치리</td>\n",
              "      <td>51.712</td>\n",
              "      <td>2</td>\n",
              "    </tr>\n",
              "    <tr>\n",
              "      <th>...</th>\n",
              "      <td>...</td>\n",
              "      <td>...</td>\n",
              "      <td>...</td>\n",
              "      <td>...</td>\n",
              "      <td>...</td>\n",
              "      <td>...</td>\n",
              "      <td>...</td>\n",
              "      <td>...</td>\n",
              "      <td>...</td>\n",
              "    </tr>\n",
              "    <tr>\n",
              "      <th>2021-06-28</th>\n",
              "      <td>7199</td>\n",
              "      <td>거제신현</td>\n",
              "      <td>경상남도</td>\n",
              "      <td>거제시</td>\n",
              "      <td>거제시</td>\n",
              "      <td>삼거동</td>\n",
              "      <td>0</td>\n",
              "      <td>136.616</td>\n",
              "      <td>2</td>\n",
              "    </tr>\n",
              "    <tr>\n",
              "      <th>2021-06-29</th>\n",
              "      <td>7198</td>\n",
              "      <td>거제신현</td>\n",
              "      <td>경상남도</td>\n",
              "      <td>거제시</td>\n",
              "      <td>거제시</td>\n",
              "      <td>삼거동</td>\n",
              "      <td>0</td>\n",
              "      <td>136.616</td>\n",
              "      <td>2</td>\n",
              "    </tr>\n",
              "    <tr>\n",
              "      <th>2021-06-29</th>\n",
              "      <td>3958</td>\n",
              "      <td>거제연초</td>\n",
              "      <td>경상남도</td>\n",
              "      <td>거제시</td>\n",
              "      <td>거제시</td>\n",
              "      <td>연초면</td>\n",
              "      <td>덕치리</td>\n",
              "      <td>51.712</td>\n",
              "      <td>2</td>\n",
              "    </tr>\n",
              "    <tr>\n",
              "      <th>2021-06-30</th>\n",
              "      <td>3957</td>\n",
              "      <td>거제연초</td>\n",
              "      <td>경상남도</td>\n",
              "      <td>거제시</td>\n",
              "      <td>거제시</td>\n",
              "      <td>연초면</td>\n",
              "      <td>덕치리</td>\n",
              "      <td>51.712</td>\n",
              "      <td>2</td>\n",
              "    </tr>\n",
              "    <tr>\n",
              "      <th>2021-06-30</th>\n",
              "      <td>7197</td>\n",
              "      <td>거제신현</td>\n",
              "      <td>경상남도</td>\n",
              "      <td>거제시</td>\n",
              "      <td>거제시</td>\n",
              "      <td>삼거동</td>\n",
              "      <td>0</td>\n",
              "      <td>136.616</td>\n",
              "      <td>2</td>\n",
              "    </tr>\n",
              "  </tbody>\n",
              "</table>\n",
              "<p>1086 rows × 9 columns</p>\n",
              "</div>"
            ],
            "text/plain": [
              "            index obsv_name_nm sdnm_nm  ... ri_nm   lev_hg decrst_cn\n",
              "decdt_dt                                ...                         \n",
              "2020-01-01   4039         거제연초    경상남도  ...   덕치리   51.712         2\n",
              "2020-01-01   7395         거제신현    경상남도  ...     0  136.616         2\n",
              "2020-01-02   4041         거제연초    경상남도  ...   덕치리   51.712         2\n",
              "2020-01-02   7399         거제신현    경상남도  ...     0  136.616         2\n",
              "2020-01-03   4040         거제연초    경상남도  ...   덕치리   51.712         2\n",
              "...           ...          ...     ...  ...   ...      ...       ...\n",
              "2021-06-28   7199         거제신현    경상남도  ...     0  136.616         2\n",
              "2021-06-29   7198         거제신현    경상남도  ...     0  136.616         2\n",
              "2021-06-29   3958         거제연초    경상남도  ...   덕치리   51.712         2\n",
              "2021-06-30   3957         거제연초    경상남도  ...   덕치리   51.712         2\n",
              "2021-06-30   7197         거제신현    경상남도  ...     0  136.616         2\n",
              "\n",
              "[1086 rows x 9 columns]"
            ]
          },
          "metadata": {},
          "execution_count": 142
        }
      ]
    },
    {
      "cell_type": "code",
      "metadata": {
        "colab": {
          "base_uri": "https://localhost:8080/",
          "height": 297
        },
        "id": "850alWjZLti1",
        "outputId": "b56a2467-30c9-4e95-a757-920e8070427d"
      },
      "source": [
        "df2_changwon['decrst_cn'].plot()"
      ],
      "execution_count": 145,
      "outputs": [
        {
          "output_type": "execute_result",
          "data": {
            "text/plain": [
              "<matplotlib.axes._subplots.AxesSubplot at 0x7faec36a0350>"
            ]
          },
          "metadata": {},
          "execution_count": 145
        },
        {
          "output_type": "display_data",
          "data": {
            "image/png": "[encoded data removed]",
            "text/plain": [
              "<Figure size 432x288 with 1 Axes>"
            ]
          },
          "metadata": {
            "needs_background": "light"
          }
        }
      ]
    },
    {
      "cell_type": "code",
      "metadata": {
        "id": "2Cd17kXZLvnL"
      },
      "source": [
        ""
      ],
      "execution_count": 138,
      "outputs": []
    }
  ]
}